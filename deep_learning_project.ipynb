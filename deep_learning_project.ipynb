{
  "cells": [
    {
      "cell_type": "code",
      "execution_count": 1,
      "metadata": {
        "id": "8QZX95DyyZ3T"
      },
      "outputs": [],
      "source": [
        "import pandas as pd\n",
        "# Import Tensorflow & Pathlib librairies\n",
        "import tensorflow as tf \n",
        "import pathlib \n",
        "import pandas as pd \n",
        "import plotly.express as px\n",
        "import os\n",
        "import io\n",
        "import warnings\n",
        "warnings.filterwarnings('ignore')"
      ]
    },
    {
      "cell_type": "code",
      "execution_count": 2,
      "metadata": {
        "id": "UZkoqDWzyvfx"
      },
      "outputs": [],
      "source": [
        "df = pd.read_csv('https://full-stack-bigdata-datasets.s3.eu-west-3.amazonaws.com/Deep+Learning/project/spam.csv', encoding='latin-1')"
      ]
    },
    {
      "cell_type": "code",
      "execution_count": 3,
      "metadata": {
        "colab": {
          "base_uri": "https://localhost:8080/",
          "height": 206
        },
        "id": "WU5VP1bOyZ3W",
        "outputId": "a4c03ef9-e5b1-4496-9bed-37747f0132a4"
      },
      "outputs": [
        {
          "data": {
            "text/html": [
              "<div>\n",
              "<style scoped>\n",
              "    .dataframe tbody tr th:only-of-type {\n",
              "        vertical-align: middle;\n",
              "    }\n",
              "\n",
              "    .dataframe tbody tr th {\n",
              "        vertical-align: top;\n",
              "    }\n",
              "\n",
              "    .dataframe thead th {\n",
              "        text-align: right;\n",
              "    }\n",
              "</style>\n",
              "<table border=\"1\" class=\"dataframe\">\n",
              "  <thead>\n",
              "    <tr style=\"text-align: right;\">\n",
              "      <th></th>\n",
              "      <th>v1</th>\n",
              "      <th>v2</th>\n",
              "      <th>Unnamed: 2</th>\n",
              "      <th>Unnamed: 3</th>\n",
              "      <th>Unnamed: 4</th>\n",
              "    </tr>\n",
              "  </thead>\n",
              "  <tbody>\n",
              "    <tr>\n",
              "      <th>0</th>\n",
              "      <td>ham</td>\n",
              "      <td>Go until jurong point, crazy.. Available only ...</td>\n",
              "      <td>NaN</td>\n",
              "      <td>NaN</td>\n",
              "      <td>NaN</td>\n",
              "    </tr>\n",
              "    <tr>\n",
              "      <th>1</th>\n",
              "      <td>ham</td>\n",
              "      <td>Ok lar... Joking wif u oni...</td>\n",
              "      <td>NaN</td>\n",
              "      <td>NaN</td>\n",
              "      <td>NaN</td>\n",
              "    </tr>\n",
              "    <tr>\n",
              "      <th>2</th>\n",
              "      <td>spam</td>\n",
              "      <td>Free entry in 2 a wkly comp to win FA Cup fina...</td>\n",
              "      <td>NaN</td>\n",
              "      <td>NaN</td>\n",
              "      <td>NaN</td>\n",
              "    </tr>\n",
              "    <tr>\n",
              "      <th>3</th>\n",
              "      <td>ham</td>\n",
              "      <td>U dun say so early hor... U c already then say...</td>\n",
              "      <td>NaN</td>\n",
              "      <td>NaN</td>\n",
              "      <td>NaN</td>\n",
              "    </tr>\n",
              "    <tr>\n",
              "      <th>4</th>\n",
              "      <td>ham</td>\n",
              "      <td>Nah I don't think he goes to usf, he lives aro...</td>\n",
              "      <td>NaN</td>\n",
              "      <td>NaN</td>\n",
              "      <td>NaN</td>\n",
              "    </tr>\n",
              "  </tbody>\n",
              "</table>\n",
              "</div>"
            ],
            "text/plain": [
              "     v1                                                 v2 Unnamed: 2  \\\n",
              "0   ham  Go until jurong point, crazy.. Available only ...        NaN   \n",
              "1   ham                      Ok lar... Joking wif u oni...        NaN   \n",
              "2  spam  Free entry in 2 a wkly comp to win FA Cup fina...        NaN   \n",
              "3   ham  U dun say so early hor... U c already then say...        NaN   \n",
              "4   ham  Nah I don't think he goes to usf, he lives aro...        NaN   \n",
              "\n",
              "  Unnamed: 3 Unnamed: 4  \n",
              "0        NaN        NaN  \n",
              "1        NaN        NaN  \n",
              "2        NaN        NaN  \n",
              "3        NaN        NaN  \n",
              "4        NaN        NaN  "
            ]
          },
          "execution_count": 3,
          "metadata": {},
          "output_type": "execute_result"
        }
      ],
      "source": [
        "df.head()"
      ]
    },
    {
      "cell_type": "code",
      "execution_count": 4,
      "metadata": {},
      "outputs": [
        {
          "name": "stdout",
          "output_type": "stream",
          "text": [
            "Percentage of missing values: \n"
          ]
        },
        {
          "data": {
            "text/plain": [
              "v1             0.000000\n",
              "v2             0.000000\n",
              "Unnamed: 2    99.102656\n",
              "Unnamed: 3    99.784637\n",
              "Unnamed: 4    99.892319\n",
              "dtype: float64"
            ]
          },
          "metadata": {},
          "output_type": "display_data"
        }
      ],
      "source": [
        "print(\"Percentage of missing values: \")\n",
        "display(100 * df.isnull().sum() / df.shape[0])"
      ]
    },
    {
      "cell_type": "code",
      "execution_count": 5,
      "metadata": {},
      "outputs": [
        {
          "data": {
            "text/plain": [
              "ham     4825\n",
              "spam     747\n",
              "Name: v1, dtype: int64"
            ]
          },
          "execution_count": 5,
          "metadata": {},
          "output_type": "execute_result"
        }
      ],
      "source": [
        "df['v1'].value_counts()"
      ]
    },
    {
      "attachments": {},
      "cell_type": "markdown",
      "metadata": {},
      "source": [
        "The last 3 columns contain more than 99% missing values, we can exclude them. The first column 'v1' has 2 possible values, spam or no spam (ham) and the second 'v2' corresponds to the texts received by users that are to be categorized either as spam or ham."
      ]
    },
    {
      "cell_type": "code",
      "execution_count": 6,
      "metadata": {
        "id": "7WRRTyTcyZ3X"
      },
      "outputs": [],
      "source": [
        "dataset = df.iloc[:,:2]"
      ]
    },
    {
      "cell_type": "code",
      "execution_count": 7,
      "metadata": {
        "colab": {
          "base_uri": "https://localhost:8080/",
          "height": 206
        },
        "id": "m5AULPvuyZ3X",
        "outputId": "223d1d16-a24f-40bd-dbd7-cba16ccfdba1"
      },
      "outputs": [
        {
          "data": {
            "text/html": [
              "<div>\n",
              "<style scoped>\n",
              "    .dataframe tbody tr th:only-of-type {\n",
              "        vertical-align: middle;\n",
              "    }\n",
              "\n",
              "    .dataframe tbody tr th {\n",
              "        vertical-align: top;\n",
              "    }\n",
              "\n",
              "    .dataframe thead th {\n",
              "        text-align: right;\n",
              "    }\n",
              "</style>\n",
              "<table border=\"1\" class=\"dataframe\">\n",
              "  <thead>\n",
              "    <tr style=\"text-align: right;\">\n",
              "      <th></th>\n",
              "      <th>v1</th>\n",
              "      <th>v2</th>\n",
              "    </tr>\n",
              "  </thead>\n",
              "  <tbody>\n",
              "    <tr>\n",
              "      <th>0</th>\n",
              "      <td>ham</td>\n",
              "      <td>Go until jurong point, crazy.. Available only ...</td>\n",
              "    </tr>\n",
              "    <tr>\n",
              "      <th>1</th>\n",
              "      <td>ham</td>\n",
              "      <td>Ok lar... Joking wif u oni...</td>\n",
              "    </tr>\n",
              "    <tr>\n",
              "      <th>2</th>\n",
              "      <td>spam</td>\n",
              "      <td>Free entry in 2 a wkly comp to win FA Cup fina...</td>\n",
              "    </tr>\n",
              "    <tr>\n",
              "      <th>3</th>\n",
              "      <td>ham</td>\n",
              "      <td>U dun say so early hor... U c already then say...</td>\n",
              "    </tr>\n",
              "    <tr>\n",
              "      <th>4</th>\n",
              "      <td>ham</td>\n",
              "      <td>Nah I don't think he goes to usf, he lives aro...</td>\n",
              "    </tr>\n",
              "  </tbody>\n",
              "</table>\n",
              "</div>"
            ],
            "text/plain": [
              "     v1                                                 v2\n",
              "0   ham  Go until jurong point, crazy.. Available only ...\n",
              "1   ham                      Ok lar... Joking wif u oni...\n",
              "2  spam  Free entry in 2 a wkly comp to win FA Cup fina...\n",
              "3   ham  U dun say so early hor... U c already then say...\n",
              "4   ham  Nah I don't think he goes to usf, he lives aro..."
            ]
          },
          "execution_count": 7,
          "metadata": {},
          "output_type": "execute_result"
        }
      ],
      "source": [
        "dataset.head()"
      ]
    },
    {
      "cell_type": "code",
      "execution_count": 8,
      "metadata": {
        "colab": {
          "base_uri": "https://localhost:8080/",
          "height": 35
        },
        "id": "V40A0ykNyZ3X",
        "outputId": "8f92749a-85f4-42a4-e4a9-7461841f71a7"
      },
      "outputs": [
        {
          "data": {
            "text/plain": [
              "\"Free entry in 2 a wkly comp to win FA Cup final tkts 21st May 2005. Text FA to 87121 to receive entry question(std txt rate)T&C's apply 08452810075over18's\""
            ]
          },
          "execution_count": 8,
          "metadata": {},
          "output_type": "execute_result"
        }
      ],
      "source": [
        "dataset['v2'][2]"
      ]
    },
    {
      "cell_type": "code",
      "execution_count": 9,
      "metadata": {
        "colab": {
          "base_uri": "https://localhost:8080/"
        },
        "id": "VSA5t7RRyZ3X",
        "outputId": "beec27d9-aef6-4579-8953-e5d6f3596a74"
      },
      "outputs": [
        {
          "data": {
            "text/plain": [
              "(5572, 2)"
            ]
          },
          "execution_count": 9,
          "metadata": {},
          "output_type": "execute_result"
        }
      ],
      "source": [
        "dataset.shape"
      ]
    },
    {
      "cell_type": "code",
      "execution_count": 10,
      "metadata": {},
      "outputs": [
        {
          "data": {
            "text/plain": [
              "array([4825,  747], dtype=int64)"
            ]
          },
          "execution_count": 10,
          "metadata": {},
          "output_type": "execute_result"
        }
      ],
      "source": [
        "dataset['v1'].value_counts().values"
      ]
    },
    {
      "cell_type": "code",
      "execution_count": 11,
      "metadata": {},
      "outputs": [
        {
          "data": {
            "text/plain": [
              "Index(['ham', 'spam'], dtype='object')"
            ]
          },
          "execution_count": 11,
          "metadata": {},
          "output_type": "execute_result"
        }
      ],
      "source": [
        "dataset['v1'].value_counts().index"
      ]
    },
    {
      "attachments": {},
      "cell_type": "markdown",
      "metadata": {},
      "source": [
        "# Visualisation :"
      ]
    },
    {
      "cell_type": "code",
      "execution_count": 13,
      "metadata": {},
      "outputs": [
        {
          "data": {
            "application/vnd.plotly.v1+json": {
              "config": {
                "plotlyServerURL": "https://plot.ly"
              },
              "data": [
                {
                  "domain": {
                    "x": [
                      0,
                      1
                    ],
                    "y": [
                      0,
                      1
                    ]
                  },
                  "hovertemplate": "label=%{label}<br>value=%{value}<extra></extra>",
                  "labels": [
                    "ham",
                    "spam"
                  ],
                  "legendgroup": "",
                  "name": "",
                  "showlegend": true,
                  "type": "pie",
                  "values": [
                    4825,
                    747
                  ]
                }
              ],
              "layout": {
                "height": 400,
                "legend": {
                  "tracegroupgap": 0
                },
                "template": {
                  "data": {
                    "bar": [
                      {
                        "error_x": {
                          "color": "#2a3f5f"
                        },
                        "error_y": {
                          "color": "#2a3f5f"
                        },
                        "marker": {
                          "line": {
                            "color": "#E5ECF6",
                            "width": 0.5
                          },
                          "pattern": {
                            "fillmode": "overlay",
                            "size": 10,
                            "solidity": 0.2
                          }
                        },
                        "type": "bar"
                      }
                    ],
                    "barpolar": [
                      {
                        "marker": {
                          "line": {
                            "color": "#E5ECF6",
                            "width": 0.5
                          },
                          "pattern": {
                            "fillmode": "overlay",
                            "size": 10,
                            "solidity": 0.2
                          }
                        },
                        "type": "barpolar"
                      }
                    ],
                    "carpet": [
                      {
                        "aaxis": {
                          "endlinecolor": "#2a3f5f",
                          "gridcolor": "white",
                          "linecolor": "white",
                          "minorgridcolor": "white",
                          "startlinecolor": "#2a3f5f"
                        },
                        "baxis": {
                          "endlinecolor": "#2a3f5f",
                          "gridcolor": "white",
                          "linecolor": "white",
                          "minorgridcolor": "white",
                          "startlinecolor": "#2a3f5f"
                        },
                        "type": "carpet"
                      }
                    ],
                    "choropleth": [
                      {
                        "colorbar": {
                          "outlinewidth": 0,
                          "ticks": ""
                        },
                        "type": "choropleth"
                      }
                    ],
                    "contour": [
                      {
                        "colorbar": {
                          "outlinewidth": 0,
                          "ticks": ""
                        },
                        "colorscale": [
                          [
                            0,
                            "#0d0887"
                          ],
                          [
                            0.1111111111111111,
                            "#46039f"
                          ],
                          [
                            0.2222222222222222,
                            "#7201a8"
                          ],
                          [
                            0.3333333333333333,
                            "#9c179e"
                          ],
                          [
                            0.4444444444444444,
                            "#bd3786"
                          ],
                          [
                            0.5555555555555556,
                            "#d8576b"
                          ],
                          [
                            0.6666666666666666,
                            "#ed7953"
                          ],
                          [
                            0.7777777777777778,
                            "#fb9f3a"
                          ],
                          [
                            0.8888888888888888,
                            "#fdca26"
                          ],
                          [
                            1,
                            "#f0f921"
                          ]
                        ],
                        "type": "contour"
                      }
                    ],
                    "contourcarpet": [
                      {
                        "colorbar": {
                          "outlinewidth": 0,
                          "ticks": ""
                        },
                        "type": "contourcarpet"
                      }
                    ],
                    "heatmap": [
                      {
                        "colorbar": {
                          "outlinewidth": 0,
                          "ticks": ""
                        },
                        "colorscale": [
                          [
                            0,
                            "#0d0887"
                          ],
                          [
                            0.1111111111111111,
                            "#46039f"
                          ],
                          [
                            0.2222222222222222,
                            "#7201a8"
                          ],
                          [
                            0.3333333333333333,
                            "#9c179e"
                          ],
                          [
                            0.4444444444444444,
                            "#bd3786"
                          ],
                          [
                            0.5555555555555556,
                            "#d8576b"
                          ],
                          [
                            0.6666666666666666,
                            "#ed7953"
                          ],
                          [
                            0.7777777777777778,
                            "#fb9f3a"
                          ],
                          [
                            0.8888888888888888,
                            "#fdca26"
                          ],
                          [
                            1,
                            "#f0f921"
                          ]
                        ],
                        "type": "heatmap"
                      }
                    ],
                    "heatmapgl": [
                      {
                        "colorbar": {
                          "outlinewidth": 0,
                          "ticks": ""
                        },
                        "colorscale": [
                          [
                            0,
                            "#0d0887"
                          ],
                          [
                            0.1111111111111111,
                            "#46039f"
                          ],
                          [
                            0.2222222222222222,
                            "#7201a8"
                          ],
                          [
                            0.3333333333333333,
                            "#9c179e"
                          ],
                          [
                            0.4444444444444444,
                            "#bd3786"
                          ],
                          [
                            0.5555555555555556,
                            "#d8576b"
                          ],
                          [
                            0.6666666666666666,
                            "#ed7953"
                          ],
                          [
                            0.7777777777777778,
                            "#fb9f3a"
                          ],
                          [
                            0.8888888888888888,
                            "#fdca26"
                          ],
                          [
                            1,
                            "#f0f921"
                          ]
                        ],
                        "type": "heatmapgl"
                      }
                    ],
                    "histogram": [
                      {
                        "marker": {
                          "pattern": {
                            "fillmode": "overlay",
                            "size": 10,
                            "solidity": 0.2
                          }
                        },
                        "type": "histogram"
                      }
                    ],
                    "histogram2d": [
                      {
                        "colorbar": {
                          "outlinewidth": 0,
                          "ticks": ""
                        },
                        "colorscale": [
                          [
                            0,
                            "#0d0887"
                          ],
                          [
                            0.1111111111111111,
                            "#46039f"
                          ],
                          [
                            0.2222222222222222,
                            "#7201a8"
                          ],
                          [
                            0.3333333333333333,
                            "#9c179e"
                          ],
                          [
                            0.4444444444444444,
                            "#bd3786"
                          ],
                          [
                            0.5555555555555556,
                            "#d8576b"
                          ],
                          [
                            0.6666666666666666,
                            "#ed7953"
                          ],
                          [
                            0.7777777777777778,
                            "#fb9f3a"
                          ],
                          [
                            0.8888888888888888,
                            "#fdca26"
                          ],
                          [
                            1,
                            "#f0f921"
                          ]
                        ],
                        "type": "histogram2d"
                      }
                    ],
                    "histogram2dcontour": [
                      {
                        "colorbar": {
                          "outlinewidth": 0,
                          "ticks": ""
                        },
                        "colorscale": [
                          [
                            0,
                            "#0d0887"
                          ],
                          [
                            0.1111111111111111,
                            "#46039f"
                          ],
                          [
                            0.2222222222222222,
                            "#7201a8"
                          ],
                          [
                            0.3333333333333333,
                            "#9c179e"
                          ],
                          [
                            0.4444444444444444,
                            "#bd3786"
                          ],
                          [
                            0.5555555555555556,
                            "#d8576b"
                          ],
                          [
                            0.6666666666666666,
                            "#ed7953"
                          ],
                          [
                            0.7777777777777778,
                            "#fb9f3a"
                          ],
                          [
                            0.8888888888888888,
                            "#fdca26"
                          ],
                          [
                            1,
                            "#f0f921"
                          ]
                        ],
                        "type": "histogram2dcontour"
                      }
                    ],
                    "mesh3d": [
                      {
                        "colorbar": {
                          "outlinewidth": 0,
                          "ticks": ""
                        },
                        "type": "mesh3d"
                      }
                    ],
                    "parcoords": [
                      {
                        "line": {
                          "colorbar": {
                            "outlinewidth": 0,
                            "ticks": ""
                          }
                        },
                        "type": "parcoords"
                      }
                    ],
                    "pie": [
                      {
                        "automargin": true,
                        "type": "pie"
                      }
                    ],
                    "scatter": [
                      {
                        "fillpattern": {
                          "fillmode": "overlay",
                          "size": 10,
                          "solidity": 0.2
                        },
                        "type": "scatter"
                      }
                    ],
                    "scatter3d": [
                      {
                        "line": {
                          "colorbar": {
                            "outlinewidth": 0,
                            "ticks": ""
                          }
                        },
                        "marker": {
                          "colorbar": {
                            "outlinewidth": 0,
                            "ticks": ""
                          }
                        },
                        "type": "scatter3d"
                      }
                    ],
                    "scattercarpet": [
                      {
                        "marker": {
                          "colorbar": {
                            "outlinewidth": 0,
                            "ticks": ""
                          }
                        },
                        "type": "scattercarpet"
                      }
                    ],
                    "scattergeo": [
                      {
                        "marker": {
                          "colorbar": {
                            "outlinewidth": 0,
                            "ticks": ""
                          }
                        },
                        "type": "scattergeo"
                      }
                    ],
                    "scattergl": [
                      {
                        "marker": {
                          "colorbar": {
                            "outlinewidth": 0,
                            "ticks": ""
                          }
                        },
                        "type": "scattergl"
                      }
                    ],
                    "scattermapbox": [
                      {
                        "marker": {
                          "colorbar": {
                            "outlinewidth": 0,
                            "ticks": ""
                          }
                        },
                        "type": "scattermapbox"
                      }
                    ],
                    "scatterpolar": [
                      {
                        "marker": {
                          "colorbar": {
                            "outlinewidth": 0,
                            "ticks": ""
                          }
                        },
                        "type": "scatterpolar"
                      }
                    ],
                    "scatterpolargl": [
                      {
                        "marker": {
                          "colorbar": {
                            "outlinewidth": 0,
                            "ticks": ""
                          }
                        },
                        "type": "scatterpolargl"
                      }
                    ],
                    "scatterternary": [
                      {
                        "marker": {
                          "colorbar": {
                            "outlinewidth": 0,
                            "ticks": ""
                          }
                        },
                        "type": "scatterternary"
                      }
                    ],
                    "surface": [
                      {
                        "colorbar": {
                          "outlinewidth": 0,
                          "ticks": ""
                        },
                        "colorscale": [
                          [
                            0,
                            "#0d0887"
                          ],
                          [
                            0.1111111111111111,
                            "#46039f"
                          ],
                          [
                            0.2222222222222222,
                            "#7201a8"
                          ],
                          [
                            0.3333333333333333,
                            "#9c179e"
                          ],
                          [
                            0.4444444444444444,
                            "#bd3786"
                          ],
                          [
                            0.5555555555555556,
                            "#d8576b"
                          ],
                          [
                            0.6666666666666666,
                            "#ed7953"
                          ],
                          [
                            0.7777777777777778,
                            "#fb9f3a"
                          ],
                          [
                            0.8888888888888888,
                            "#fdca26"
                          ],
                          [
                            1,
                            "#f0f921"
                          ]
                        ],
                        "type": "surface"
                      }
                    ],
                    "table": [
                      {
                        "cells": {
                          "fill": {
                            "color": "#EBF0F8"
                          },
                          "line": {
                            "color": "white"
                          }
                        },
                        "header": {
                          "fill": {
                            "color": "#C8D4E3"
                          },
                          "line": {
                            "color": "white"
                          }
                        },
                        "type": "table"
                      }
                    ]
                  },
                  "layout": {
                    "annotationdefaults": {
                      "arrowcolor": "#2a3f5f",
                      "arrowhead": 0,
                      "arrowwidth": 1
                    },
                    "autotypenumbers": "strict",
                    "coloraxis": {
                      "colorbar": {
                        "outlinewidth": 0,
                        "ticks": ""
                      }
                    },
                    "colorscale": {
                      "diverging": [
                        [
                          0,
                          "#8e0152"
                        ],
                        [
                          0.1,
                          "#c51b7d"
                        ],
                        [
                          0.2,
                          "#de77ae"
                        ],
                        [
                          0.3,
                          "#f1b6da"
                        ],
                        [
                          0.4,
                          "#fde0ef"
                        ],
                        [
                          0.5,
                          "#f7f7f7"
                        ],
                        [
                          0.6,
                          "#e6f5d0"
                        ],
                        [
                          0.7,
                          "#b8e186"
                        ],
                        [
                          0.8,
                          "#7fbc41"
                        ],
                        [
                          0.9,
                          "#4d9221"
                        ],
                        [
                          1,
                          "#276419"
                        ]
                      ],
                      "sequential": [
                        [
                          0,
                          "#0d0887"
                        ],
                        [
                          0.1111111111111111,
                          "#46039f"
                        ],
                        [
                          0.2222222222222222,
                          "#7201a8"
                        ],
                        [
                          0.3333333333333333,
                          "#9c179e"
                        ],
                        [
                          0.4444444444444444,
                          "#bd3786"
                        ],
                        [
                          0.5555555555555556,
                          "#d8576b"
                        ],
                        [
                          0.6666666666666666,
                          "#ed7953"
                        ],
                        [
                          0.7777777777777778,
                          "#fb9f3a"
                        ],
                        [
                          0.8888888888888888,
                          "#fdca26"
                        ],
                        [
                          1,
                          "#f0f921"
                        ]
                      ],
                      "sequentialminus": [
                        [
                          0,
                          "#0d0887"
                        ],
                        [
                          0.1111111111111111,
                          "#46039f"
                        ],
                        [
                          0.2222222222222222,
                          "#7201a8"
                        ],
                        [
                          0.3333333333333333,
                          "#9c179e"
                        ],
                        [
                          0.4444444444444444,
                          "#bd3786"
                        ],
                        [
                          0.5555555555555556,
                          "#d8576b"
                        ],
                        [
                          0.6666666666666666,
                          "#ed7953"
                        ],
                        [
                          0.7777777777777778,
                          "#fb9f3a"
                        ],
                        [
                          0.8888888888888888,
                          "#fdca26"
                        ],
                        [
                          1,
                          "#f0f921"
                        ]
                      ]
                    },
                    "colorway": [
                      "#636efa",
                      "#EF553B",
                      "#00cc96",
                      "#ab63fa",
                      "#FFA15A",
                      "#19d3f3",
                      "#FF6692",
                      "#B6E880",
                      "#FF97FF",
                      "#FECB52"
                    ],
                    "font": {
                      "color": "#2a3f5f"
                    },
                    "geo": {
                      "bgcolor": "white",
                      "lakecolor": "white",
                      "landcolor": "#E5ECF6",
                      "showlakes": true,
                      "showland": true,
                      "subunitcolor": "white"
                    },
                    "hoverlabel": {
                      "align": "left"
                    },
                    "hovermode": "closest",
                    "mapbox": {
                      "style": "light"
                    },
                    "paper_bgcolor": "white",
                    "plot_bgcolor": "#E5ECF6",
                    "polar": {
                      "angularaxis": {
                        "gridcolor": "white",
                        "linecolor": "white",
                        "ticks": ""
                      },
                      "bgcolor": "#E5ECF6",
                      "radialaxis": {
                        "gridcolor": "white",
                        "linecolor": "white",
                        "ticks": ""
                      }
                    },
                    "scene": {
                      "xaxis": {
                        "backgroundcolor": "#E5ECF6",
                        "gridcolor": "white",
                        "gridwidth": 2,
                        "linecolor": "white",
                        "showbackground": true,
                        "ticks": "",
                        "zerolinecolor": "white"
                      },
                      "yaxis": {
                        "backgroundcolor": "#E5ECF6",
                        "gridcolor": "white",
                        "gridwidth": 2,
                        "linecolor": "white",
                        "showbackground": true,
                        "ticks": "",
                        "zerolinecolor": "white"
                      },
                      "zaxis": {
                        "backgroundcolor": "#E5ECF6",
                        "gridcolor": "white",
                        "gridwidth": 2,
                        "linecolor": "white",
                        "showbackground": true,
                        "ticks": "",
                        "zerolinecolor": "white"
                      }
                    },
                    "shapedefaults": {
                      "line": {
                        "color": "#2a3f5f"
                      }
                    },
                    "ternary": {
                      "aaxis": {
                        "gridcolor": "white",
                        "linecolor": "white",
                        "ticks": ""
                      },
                      "baxis": {
                        "gridcolor": "white",
                        "linecolor": "white",
                        "ticks": ""
                      },
                      "bgcolor": "#E5ECF6",
                      "caxis": {
                        "gridcolor": "white",
                        "linecolor": "white",
                        "ticks": ""
                      }
                    },
                    "title": {
                      "x": 0.05
                    },
                    "xaxis": {
                      "automargin": true,
                      "gridcolor": "white",
                      "linecolor": "white",
                      "ticks": "",
                      "title": {
                        "standoff": 15
                      },
                      "zerolinecolor": "white",
                      "zerolinewidth": 2
                    },
                    "yaxis": {
                      "automargin": true,
                      "gridcolor": "white",
                      "linecolor": "white",
                      "ticks": "",
                      "title": {
                        "standoff": 15
                      },
                      "zerolinecolor": "white",
                      "zerolinewidth": 2
                    }
                  }
                },
                "title": {
                  "text": "Spam proportion",
                  "x": 0.5
                },
                "width": 500
              }
            }
          },
          "metadata": {},
          "output_type": "display_data"
        }
      ],
      "source": [
        "fig_target =  px.pie(dataset, values= dataset['v1'].value_counts().values, names=dataset['v1'].value_counts().index, title = 'Spam proportion', width = 500, height = 400)\n",
        "fig_target.update(layout=dict(title=dict(x=0.5)))\n",
        "fig_target.show()"
      ]
    },
    {
      "attachments": {},
      "cell_type": "markdown",
      "metadata": {},
      "source": [
        "# Preprocessing for nlp : "
      ]
    },
    {
      "cell_type": "code",
      "execution_count": 16,
      "metadata": {},
      "outputs": [
        {
          "name": "stdout",
          "output_type": "stream",
          "text": [
            "Collecting spacy\n",
            "  Downloading spacy-3.5.0-cp310-cp310-win_amd64.whl (12.2 MB)\n",
            "     --------------------------------------- 12.2/12.2 MB 18.7 MB/s eta 0:00:00\n",
            "Collecting catalogue<2.1.0,>=2.0.6\n",
            "  Downloading catalogue-2.0.8-py3-none-any.whl (17 kB)\n",
            "Collecting murmurhash<1.1.0,>=0.28.0\n",
            "  Downloading murmurhash-1.0.9-cp310-cp310-win_amd64.whl (18 kB)\n",
            "Collecting jinja2\n",
            "  Using cached Jinja2-3.1.2-py3-none-any.whl (133 kB)\n",
            "Collecting cymem<2.1.0,>=2.0.2\n",
            "  Downloading cymem-2.0.7-cp310-cp310-win_amd64.whl (29 kB)\n",
            "Collecting typer<0.8.0,>=0.3.0\n",
            "  Using cached typer-0.7.0-py3-none-any.whl (38 kB)\n",
            "Requirement already satisfied: smart-open<7.0.0,>=5.2.1 in c:\\users\\lucal\\anaconda3\\envs\\ray\\lib\\site-packages (from spacy) (6.3.0)\n",
            "Collecting srsly<3.0.0,>=2.4.3\n",
            "  Downloading srsly-2.4.6-cp310-cp310-win_amd64.whl (480 kB)\n",
            "     ------------------------------------- 480.9/480.9 kB 15.2 MB/s eta 0:00:00\n",
            "Collecting thinc<8.2.0,>=8.1.0\n",
            "  Downloading thinc-8.1.9-cp310-cp310-win_amd64.whl (1.5 MB)\n",
            "     ---------------------------------------- 1.5/1.5 MB 23.1 MB/s eta 0:00:00\n",
            "Collecting spacy-loggers<2.0.0,>=1.0.0\n",
            "  Downloading spacy_loggers-1.0.4-py3-none-any.whl (11 kB)\n",
            "Requirement already satisfied: pydantic!=1.8,!=1.8.1,<1.11.0,>=1.7.4 in c:\\users\\lucal\\anaconda3\\envs\\ray\\lib\\site-packages (from spacy) (1.10.4)\n",
            "Requirement already satisfied: numpy>=1.15.0 in c:\\users\\lucal\\anaconda3\\envs\\ray\\lib\\site-packages (from spacy) (1.24.1)\n",
            "Collecting preshed<3.1.0,>=3.0.2\n",
            "  Downloading preshed-3.0.8-cp310-cp310-win_amd64.whl (94 kB)\n",
            "     ---------------------------------------- 94.7/94.7 kB 5.3 MB/s eta 0:00:00\n",
            "Collecting tqdm<5.0.0,>=4.38.0\n",
            "  Downloading tqdm-4.65.0-py3-none-any.whl (77 kB)\n",
            "     ---------------------------------------- 77.1/77.1 kB 4.2 MB/s eta 0:00:00\n",
            "Requirement already satisfied: setuptools in c:\\users\\lucal\\anaconda3\\envs\\ray\\lib\\site-packages (from spacy) (65.6.3)\n",
            "Collecting pathy>=0.10.0\n",
            "  Downloading pathy-0.10.1-py3-none-any.whl (48 kB)\n",
            "     ---------------------------------------- 48.9/48.9 kB ? eta 0:00:00\n",
            "Collecting langcodes<4.0.0,>=3.2.0\n",
            "  Downloading langcodes-3.3.0-py3-none-any.whl (181 kB)\n",
            "     ------------------------------------- 181.6/181.6 kB 10.7 MB/s eta 0:00:00\n",
            "Requirement already satisfied: requests<3.0.0,>=2.13.0 in c:\\users\\lucal\\anaconda3\\envs\\ray\\lib\\site-packages (from spacy) (2.28.2)\n",
            "Requirement already satisfied: packaging>=20.0 in c:\\users\\lucal\\anaconda3\\envs\\ray\\lib\\site-packages (from spacy) (23.0)\n",
            "Collecting wasabi<1.2.0,>=0.9.1\n",
            "  Downloading wasabi-1.1.1-py3-none-any.whl (27 kB)\n",
            "Collecting spacy-legacy<3.1.0,>=3.0.11\n",
            "  Downloading spacy_legacy-3.0.12-py2.py3-none-any.whl (29 kB)\n",
            "Requirement already satisfied: typing-extensions>=4.2.0 in c:\\users\\lucal\\anaconda3\\envs\\ray\\lib\\site-packages (from pydantic!=1.8,!=1.8.1,<1.11.0,>=1.7.4->spacy) (4.4.0)\n",
            "Requirement already satisfied: charset-normalizer<4,>=2 in c:\\users\\lucal\\anaconda3\\envs\\ray\\lib\\site-packages (from requests<3.0.0,>=2.13.0->spacy) (2.1.1)\n",
            "Requirement already satisfied: urllib3<1.27,>=1.21.1 in c:\\users\\lucal\\anaconda3\\envs\\ray\\lib\\site-packages (from requests<3.0.0,>=2.13.0->spacy) (1.26.14)\n",
            "Requirement already satisfied: idna<4,>=2.5 in c:\\users\\lucal\\anaconda3\\envs\\ray\\lib\\site-packages (from requests<3.0.0,>=2.13.0->spacy) (3.4)\n",
            "Requirement already satisfied: certifi>=2017.4.17 in c:\\users\\lucal\\anaconda3\\envs\\ray\\lib\\site-packages (from requests<3.0.0,>=2.13.0->spacy) (2022.12.7)\n",
            "Collecting blis<0.8.0,>=0.7.8\n",
            "  Downloading blis-0.7.9-cp310-cp310-win_amd64.whl (7.0 MB)\n",
            "     ---------------------------------------- 7.0/7.0 MB 25.0 MB/s eta 0:00:00\n",
            "Collecting confection<1.0.0,>=0.0.1\n",
            "  Downloading confection-0.0.4-py3-none-any.whl (32 kB)\n",
            "Requirement already satisfied: colorama in c:\\users\\lucal\\anaconda3\\envs\\ray\\lib\\site-packages (from tqdm<5.0.0,>=4.38.0->spacy) (0.4.6)\n",
            "Requirement already satisfied: click<9.0.0,>=7.1.1 in c:\\users\\lucal\\anaconda3\\envs\\ray\\lib\\site-packages (from typer<0.8.0,>=0.3.0->spacy) (8.1.3)\n",
            "Requirement already satisfied: MarkupSafe>=2.0 in c:\\users\\lucal\\anaconda3\\envs\\ray\\lib\\site-packages (from jinja2->spacy) (2.1.2)\n",
            "Installing collected packages: cymem, wasabi, tqdm, spacy-loggers, spacy-legacy, murmurhash, langcodes, jinja2, catalogue, blis, typer, srsly, preshed, pathy, confection, thinc, spacy\n",
            "Successfully installed blis-0.7.9 catalogue-2.0.8 confection-0.0.4 cymem-2.0.7 jinja2-3.1.2 langcodes-3.3.0 murmurhash-1.0.9 pathy-0.10.1 preshed-3.0.8 spacy-3.5.0 spacy-legacy-3.0.12 spacy-loggers-1.0.4 srsly-2.4.6 thinc-8.1.9 tqdm-4.65.0 typer-0.7.0 wasabi-1.1.1\n"
          ]
        }
      ],
      "source": [
        "!pip install spacy"
      ]
    },
    {
      "cell_type": "code",
      "execution_count": 17,
      "metadata": {
        "colab": {
          "base_uri": "https://localhost:8080/"
        },
        "id": "YNoMC-A7yZ3X",
        "outputId": "d3a029dc-8e20-4d41-80c4-dde0371686ce"
      },
      "outputs": [
        {
          "name": "stdout",
          "output_type": "stream",
          "text": [
            "Collecting fr-core-news-sm==3.5.0\n",
            "  Downloading https://github.com/explosion/spacy-models/releases/download/fr_core_news_sm-3.5.0/fr_core_news_sm-3.5.0-py3-none-any.whl (16.3 MB)\n",
            "     --------------------------------------- 16.3/16.3 MB 19.2 MB/s eta 0:00:00\n",
            "Requirement already satisfied: spacy<3.6.0,>=3.5.0 in c:\\users\\lucal\\anaconda3\\envs\\ray\\lib\\site-packages (from fr-core-news-sm==3.5.0) (3.5.0)\n",
            "Requirement already satisfied: setuptools in c:\\users\\lucal\\anaconda3\\envs\\ray\\lib\\site-packages (from spacy<3.6.0,>=3.5.0->fr-core-news-sm==3.5.0) (65.6.3)\n",
            "Requirement already satisfied: murmurhash<1.1.0,>=0.28.0 in c:\\users\\lucal\\anaconda3\\envs\\ray\\lib\\site-packages (from spacy<3.6.0,>=3.5.0->fr-core-news-sm==3.5.0) (1.0.9)\n",
            "Requirement already satisfied: srsly<3.0.0,>=2.4.3 in c:\\users\\lucal\\anaconda3\\envs\\ray\\lib\\site-packages (from spacy<3.6.0,>=3.5.0->fr-core-news-sm==3.5.0) (2.4.6)\n",
            "Requirement already satisfied: tqdm<5.0.0,>=4.38.0 in c:\\users\\lucal\\anaconda3\\envs\\ray\\lib\\site-packages (from spacy<3.6.0,>=3.5.0->fr-core-news-sm==3.5.0) (4.65.0)\n",
            "Requirement already satisfied: pydantic!=1.8,!=1.8.1,<1.11.0,>=1.7.4 in c:\\users\\lucal\\anaconda3\\envs\\ray\\lib\\site-packages (from spacy<3.6.0,>=3.5.0->fr-core-news-sm==3.5.0) (1.10.4)\n",
            "Requirement already satisfied: spacy-loggers<2.0.0,>=1.0.0 in c:\\users\\lucal\\anaconda3\\envs\\ray\\lib\\site-packages (from spacy<3.6.0,>=3.5.0->fr-core-news-sm==3.5.0) (1.0.4)\n",
            "Requirement already satisfied: wasabi<1.2.0,>=0.9.1 in c:\\users\\lucal\\anaconda3\\envs\\ray\\lib\\site-packages (from spacy<3.6.0,>=3.5.0->fr-core-news-sm==3.5.0) (1.1.1)\n",
            "Requirement already satisfied: pathy>=0.10.0 in c:\\users\\lucal\\anaconda3\\envs\\ray\\lib\\site-packages (from spacy<3.6.0,>=3.5.0->fr-core-news-sm==3.5.0) (0.10.1)\n",
            "Requirement already satisfied: typer<0.8.0,>=0.3.0 in c:\\users\\lucal\\anaconda3\\envs\\ray\\lib\\site-packages (from spacy<3.6.0,>=3.5.0->fr-core-news-sm==3.5.0) (0.7.0)\n",
            "Requirement already satisfied: langcodes<4.0.0,>=3.2.0 in c:\\users\\lucal\\anaconda3\\envs\\ray\\lib\\site-packages (from spacy<3.6.0,>=3.5.0->fr-core-news-sm==3.5.0) (3.3.0)\n",
            "Requirement already satisfied: preshed<3.1.0,>=3.0.2 in c:\\users\\lucal\\anaconda3\\envs\\ray\\lib\\site-packages (from spacy<3.6.0,>=3.5.0->fr-core-news-sm==3.5.0) (3.0.8)\n",
            "Requirement already satisfied: thinc<8.2.0,>=8.1.0 in c:\\users\\lucal\\anaconda3\\envs\\ray\\lib\\site-packages (from spacy<3.6.0,>=3.5.0->fr-core-news-sm==3.5.0) (8.1.9)\n",
            "Requirement already satisfied: packaging>=20.0 in c:\\users\\lucal\\anaconda3\\envs\\ray\\lib\\site-packages (from spacy<3.6.0,>=3.5.0->fr-core-news-sm==3.5.0) (23.0)\n",
            "Requirement already satisfied: catalogue<2.1.0,>=2.0.6 in c:\\users\\lucal\\anaconda3\\envs\\ray\\lib\\site-packages (from spacy<3.6.0,>=3.5.0->fr-core-news-sm==3.5.0) (2.0.8)\n",
            "Requirement already satisfied: spacy-legacy<3.1.0,>=3.0.11 in c:\\users\\lucal\\anaconda3\\envs\\ray\\lib\\site-packages (from spacy<3.6.0,>=3.5.0->fr-core-news-sm==3.5.0) (3.0.12)\n",
            "Requirement already satisfied: smart-open<7.0.0,>=5.2.1 in c:\\users\\lucal\\anaconda3\\envs\\ray\\lib\\site-packages (from spacy<3.6.0,>=3.5.0->fr-core-news-sm==3.5.0) (6.3.0)\n",
            "Requirement already satisfied: numpy>=1.15.0 in c:\\users\\lucal\\anaconda3\\envs\\ray\\lib\\site-packages (from spacy<3.6.0,>=3.5.0->fr-core-news-sm==3.5.0) (1.24.1)\n",
            "Requirement already satisfied: requests<3.0.0,>=2.13.0 in c:\\users\\lucal\\anaconda3\\envs\\ray\\lib\\site-packages (from spacy<3.6.0,>=3.5.0->fr-core-news-sm==3.5.0) (2.28.2)\n",
            "Requirement already satisfied: cymem<2.1.0,>=2.0.2 in c:\\users\\lucal\\anaconda3\\envs\\ray\\lib\\site-packages (from spacy<3.6.0,>=3.5.0->fr-core-news-sm==3.5.0) (2.0.7)\n",
            "Requirement already satisfied: jinja2 in c:\\users\\lucal\\anaconda3\\envs\\ray\\lib\\site-packages (from spacy<3.6.0,>=3.5.0->fr-core-news-sm==3.5.0) (3.1.2)\n",
            "Requirement already satisfied: typing-extensions>=4.2.0 in c:\\users\\lucal\\anaconda3\\envs\\ray\\lib\\site-packages (from pydantic!=1.8,!=1.8.1,<1.11.0,>=1.7.4->spacy<3.6.0,>=3.5.0->fr-core-news-sm==3.5.0) (4.4.0)\n",
            "Requirement already satisfied: charset-normalizer<4,>=2 in c:\\users\\lucal\\anaconda3\\envs\\ray\\lib\\site-packages (from requests<3.0.0,>=2.13.0->spacy<3.6.0,>=3.5.0->fr-core-news-sm==3.5.0) (2.1.1)\n",
            "Requirement already satisfied: certifi>=2017.4.17 in c:\\users\\lucal\\anaconda3\\envs\\ray\\lib\\site-packages (from requests<3.0.0,>=2.13.0->spacy<3.6.0,>=3.5.0->fr-core-news-sm==3.5.0) (2022.12.7)\n",
            "Requirement already satisfied: urllib3<1.27,>=1.21.1 in c:\\users\\lucal\\anaconda3\\envs\\ray\\lib\\site-packages (from requests<3.0.0,>=2.13.0->spacy<3.6.0,>=3.5.0->fr-core-news-sm==3.5.0) (1.26.14)\n",
            "Requirement already satisfied: idna<4,>=2.5 in c:\\users\\lucal\\anaconda3\\envs\\ray\\lib\\site-packages (from requests<3.0.0,>=2.13.0->spacy<3.6.0,>=3.5.0->fr-core-news-sm==3.5.0) (3.4)\n",
            "Requirement already satisfied: confection<1.0.0,>=0.0.1 in c:\\users\\lucal\\anaconda3\\envs\\ray\\lib\\site-packages (from thinc<8.2.0,>=8.1.0->spacy<3.6.0,>=3.5.0->fr-core-news-sm==3.5.0) (0.0.4)\n",
            "Requirement already satisfied: blis<0.8.0,>=0.7.8 in c:\\users\\lucal\\anaconda3\\envs\\ray\\lib\\site-packages (from thinc<8.2.0,>=8.1.0->spacy<3.6.0,>=3.5.0->fr-core-news-sm==3.5.0) (0.7.9)\n",
            "Requirement already satisfied: colorama in c:\\users\\lucal\\anaconda3\\envs\\ray\\lib\\site-packages (from tqdm<5.0.0,>=4.38.0->spacy<3.6.0,>=3.5.0->fr-core-news-sm==3.5.0) (0.4.6)\n",
            "Requirement already satisfied: click<9.0.0,>=7.1.1 in c:\\users\\lucal\\anaconda3\\envs\\ray\\lib\\site-packages (from typer<0.8.0,>=0.3.0->spacy<3.6.0,>=3.5.0->fr-core-news-sm==3.5.0) (8.1.3)\n",
            "Requirement already satisfied: MarkupSafe>=2.0 in c:\\users\\lucal\\anaconda3\\envs\\ray\\lib\\site-packages (from jinja2->spacy<3.6.0,>=3.5.0->fr-core-news-sm==3.5.0) (2.1.2)\n",
            "Installing collected packages: fr-core-news-sm\n",
            "Successfully installed fr-core-news-sm-3.5.0\n",
            "\u001b[38;5;2m✔ Download and installation successful\u001b[0m\n",
            "You can now load the package via spacy.load('fr_core_news_sm')\n"
          ]
        }
      ],
      "source": [
        "!python -m spacy download fr_core_news_sm"
      ]
    },
    {
      "attachments": {},
      "cell_type": "markdown",
      "metadata": {},
      "source": [
        "# Eliminating non alphanumeric caracters, Lemmatization & Tokenization"
      ]
    },
    {
      "cell_type": "code",
      "execution_count": 18,
      "metadata": {
        "id": "846oCIFHzD4e"
      },
      "outputs": [],
      "source": [
        "import fr_core_news_sm\n",
        "nlp = fr_core_news_sm.load()"
      ]
    },
    {
      "cell_type": "code",
      "execution_count": 19,
      "metadata": {
        "id": "IysW2X3lzF1T"
      },
      "outputs": [],
      "source": [
        "from spacy.lang.fr.stop_words import STOP_WORDS"
      ]
    },
    {
      "cell_type": "code",
      "execution_count": 20,
      "metadata": {
        "id": "VAN5AztfzH9G"
      },
      "outputs": [],
      "source": [
        "dataset[\"txt_clean\"] = dataset[\"v2\"].apply(lambda x:''.join(ch for ch in x if ch.isalnum() or ch==\" \" or ch==\"'\"))\n",
        "dataset[\"txt_clean\"] = dataset[\"txt_clean\"].apply(lambda x: x.replace(\" +\",\" \").lower().strip())\n",
        "dataset[\"txt_clean\"] = dataset[\"txt_clean\"].apply(lambda x: \" \".join([token.lemma_ for token in nlp(x) if (token.lemma_ not in STOP_WORDS) and (token.text not in STOP_WORDS)]))"
      ]
    },
    {
      "cell_type": "code",
      "execution_count": 21,
      "metadata": {
        "colab": {
          "base_uri": "https://localhost:8080/",
          "height": 206
        },
        "id": "MT5jBE5AzfB2",
        "outputId": "3ff8132f-7d8a-4b65-a830-3d178c372b93"
      },
      "outputs": [
        {
          "data": {
            "text/html": [
              "<div>\n",
              "<style scoped>\n",
              "    .dataframe tbody tr th:only-of-type {\n",
              "        vertical-align: middle;\n",
              "    }\n",
              "\n",
              "    .dataframe tbody tr th {\n",
              "        vertical-align: top;\n",
              "    }\n",
              "\n",
              "    .dataframe thead th {\n",
              "        text-align: right;\n",
              "    }\n",
              "</style>\n",
              "<table border=\"1\" class=\"dataframe\">\n",
              "  <thead>\n",
              "    <tr style=\"text-align: right;\">\n",
              "      <th></th>\n",
              "      <th>v1</th>\n",
              "      <th>v2</th>\n",
              "      <th>txt_clean</th>\n",
              "    </tr>\n",
              "  </thead>\n",
              "  <tbody>\n",
              "    <tr>\n",
              "      <th>0</th>\n",
              "      <td>ham</td>\n",
              "      <td>Go until jurong point, crazy.. Available only ...</td>\n",
              "      <td>go until jurong point crazy availabl only in b...</td>\n",
              "    </tr>\n",
              "    <tr>\n",
              "      <th>1</th>\n",
              "      <td>ham</td>\n",
              "      <td>Ok lar... Joking wif u oni...</td>\n",
              "      <td>ok lar joking wif u oni</td>\n",
              "    </tr>\n",
              "    <tr>\n",
              "      <th>2</th>\n",
              "      <td>spam</td>\n",
              "      <td>Free entry in 2 a wkly comp to win FA Cup fina...</td>\n",
              "      <td>free entry in 2 wkly comp to win fa cup final ...</td>\n",
              "    </tr>\n",
              "    <tr>\n",
              "      <th>3</th>\n",
              "      <td>ham</td>\n",
              "      <td>U dun say so early hor... U c already then say...</td>\n",
              "      <td>u dun say so early hor u c already then say</td>\n",
              "    </tr>\n",
              "    <tr>\n",
              "      <th>4</th>\n",
              "      <td>ham</td>\n",
              "      <td>Nah I don't think he goes to usf, he lives aro...</td>\n",
              "      <td>nah don' t think he goe to usf h live around h...</td>\n",
              "    </tr>\n",
              "  </tbody>\n",
              "</table>\n",
              "</div>"
            ],
            "text/plain": [
              "     v1                                                 v2  \\\n",
              "0   ham  Go until jurong point, crazy.. Available only ...   \n",
              "1   ham                      Ok lar... Joking wif u oni...   \n",
              "2  spam  Free entry in 2 a wkly comp to win FA Cup fina...   \n",
              "3   ham  U dun say so early hor... U c already then say...   \n",
              "4   ham  Nah I don't think he goes to usf, he lives aro...   \n",
              "\n",
              "                                           txt_clean  \n",
              "0  go until jurong point crazy availabl only in b...  \n",
              "1                            ok lar joking wif u oni  \n",
              "2  free entry in 2 wkly comp to win fa cup final ...  \n",
              "3        u dun say so early hor u c already then say  \n",
              "4  nah don' t think he goe to usf h live around h...  "
            ]
          },
          "execution_count": 21,
          "metadata": {},
          "output_type": "execute_result"
        }
      ],
      "source": [
        "dataset.head()"
      ]
    },
    {
      "cell_type": "code",
      "execution_count": 22,
      "metadata": {
        "id": "d6jzX0S4z2vU"
      },
      "outputs": [],
      "source": [
        "import numpy as np\n",
        "tokenizer = tf.keras.preprocessing.text.Tokenizer(num_words=1000, oov_token=\"out_of_vocab\") # instanciate the tokenizer\n",
        "tokenizer.fit_on_texts(dataset.txt_clean)\n",
        "dataset[\"txt_encoded\"] = tokenizer.texts_to_sequences(dataset.txt_clean)"
      ]
    },
    {
      "cell_type": "code",
      "execution_count": 23,
      "metadata": {
        "colab": {
          "base_uri": "https://localhost:8080/",
          "height": 206
        },
        "id": "OXmbLL330hBN",
        "outputId": "9c059635-a54e-493e-b227-3f7950d5c961"
      },
      "outputs": [
        {
          "data": {
            "text/html": [
              "<div>\n",
              "<style scoped>\n",
              "    .dataframe tbody tr th:only-of-type {\n",
              "        vertical-align: middle;\n",
              "    }\n",
              "\n",
              "    .dataframe tbody tr th {\n",
              "        vertical-align: top;\n",
              "    }\n",
              "\n",
              "    .dataframe thead th {\n",
              "        text-align: right;\n",
              "    }\n",
              "</style>\n",
              "<table border=\"1\" class=\"dataframe\">\n",
              "  <thead>\n",
              "    <tr style=\"text-align: right;\">\n",
              "      <th></th>\n",
              "      <th>v1</th>\n",
              "      <th>v2</th>\n",
              "      <th>txt_clean</th>\n",
              "      <th>txt_encoded</th>\n",
              "    </tr>\n",
              "  </thead>\n",
              "  <tbody>\n",
              "    <tr>\n",
              "      <th>0</th>\n",
              "      <td>ham</td>\n",
              "      <td>Go until jurong point, crazy.. Available only ...</td>\n",
              "      <td>go until jurong point crazy availabl only in b...</td>\n",
              "      <td>[42, 448, 1, 417, 692, 693, 63, 7, 1, 104, 115...</td>\n",
              "    </tr>\n",
              "    <tr>\n",
              "      <th>1</th>\n",
              "      <td>ham</td>\n",
              "      <td>Ok lar... Joking wif u oni...</td>\n",
              "      <td>ok lar joking wif u oni</td>\n",
              "      <td>[45, 316, 1, 389, 5, 1]</td>\n",
              "    </tr>\n",
              "    <tr>\n",
              "      <th>2</th>\n",
              "      <td>spam</td>\n",
              "      <td>Free entry in 2 a wkly comp to win FA Cup fina...</td>\n",
              "      <td>free entry in 2 wkly comp to win fa cup final ...</td>\n",
              "      <td>[47, 464, 7, 18, 732, 874, 2, 170, 1, 1, 612, ...</td>\n",
              "    </tr>\n",
              "    <tr>\n",
              "      <th>3</th>\n",
              "      <td>ham</td>\n",
              "      <td>U dun say so early hor... U c already then say...</td>\n",
              "      <td>u dun say so early hor u c already then say</td>\n",
              "      <td>[5, 230, 118, 20, 365, 1, 5, 145, 142, 59, 118]</td>\n",
              "    </tr>\n",
              "    <tr>\n",
              "      <th>4</th>\n",
              "      <td>ham</td>\n",
              "      <td>Nah I don't think he goes to usf, he lives aro...</td>\n",
              "      <td>nah don' t think he goe to usf h live around h...</td>\n",
              "      <td>[925, 89, 28, 91, 66, 480, 2, 875, 1, 255, 202...</td>\n",
              "    </tr>\n",
              "  </tbody>\n",
              "</table>\n",
              "</div>"
            ],
            "text/plain": [
              "     v1                                                 v2  \\\n",
              "0   ham  Go until jurong point, crazy.. Available only ...   \n",
              "1   ham                      Ok lar... Joking wif u oni...   \n",
              "2  spam  Free entry in 2 a wkly comp to win FA Cup fina...   \n",
              "3   ham  U dun say so early hor... U c already then say...   \n",
              "4   ham  Nah I don't think he goes to usf, he lives aro...   \n",
              "\n",
              "                                           txt_clean  \\\n",
              "0  go until jurong point crazy availabl only in b...   \n",
              "1                            ok lar joking wif u oni   \n",
              "2  free entry in 2 wkly comp to win fa cup final ...   \n",
              "3        u dun say so early hor u c already then say   \n",
              "4  nah don' t think he goe to usf h live around h...   \n",
              "\n",
              "                                         txt_encoded  \n",
              "0  [42, 448, 1, 417, 692, 693, 63, 7, 1, 104, 115...  \n",
              "1                            [45, 316, 1, 389, 5, 1]  \n",
              "2  [47, 464, 7, 18, 732, 874, 2, 170, 1, 1, 612, ...  \n",
              "3    [5, 230, 118, 20, 365, 1, 5, 145, 142, 59, 118]  \n",
              "4  [925, 89, 28, 91, 66, 480, 2, 875, 1, 255, 202...  "
            ]
          },
          "execution_count": 23,
          "metadata": {},
          "output_type": "execute_result"
        }
      ],
      "source": [
        "dataset.head()"
      ]
    },
    {
      "cell_type": "code",
      "execution_count": 24,
      "metadata": {
        "id": "v4yEY3Hy4QQz"
      },
      "outputs": [],
      "source": [
        "dataset['target'] = 0"
      ]
    },
    {
      "cell_type": "code",
      "execution_count": 25,
      "metadata": {
        "id": "NFkAMSNH3bHT"
      },
      "outputs": [],
      "source": [
        "dataset.loc[dataset['v1'] == 'spam',['target']] = 1"
      ]
    },
    {
      "cell_type": "code",
      "execution_count": 26,
      "metadata": {
        "colab": {
          "base_uri": "https://localhost:8080/"
        },
        "id": "2vCKZPdu4ZGj",
        "outputId": "4b1d2b9e-5542-4895-85b6-79ded5bed8b4"
      },
      "outputs": [
        {
          "data": {
            "text/plain": [
              "0    4825\n",
              "1     747\n",
              "Name: target, dtype: int64"
            ]
          },
          "execution_count": 26,
          "metadata": {},
          "output_type": "execute_result"
        }
      ],
      "source": [
        "dataset['target'].value_counts()"
      ]
    },
    {
      "cell_type": "code",
      "execution_count": 18,
      "metadata": {
        "id": "jRSK5V3U7U--"
      },
      "outputs": [],
      "source": [
        "spam_dict = dataset['target'].value_counts().to_dict()"
      ]
    },
    {
      "cell_type": "code",
      "execution_count": 19,
      "metadata": {
        "colab": {
          "base_uri": "https://localhost:8080/"
        },
        "id": "0y9RFjJV7vhW",
        "outputId": "cba1e9de-67b0-4ee0-c2b4-6a6b06aee595"
      },
      "outputs": [
        {
          "data": {
            "text/plain": [
              "{0: 4825, 1: 747}"
            ]
          },
          "execution_count": 19,
          "metadata": {},
          "output_type": "execute_result"
        }
      ],
      "source": [
        "spam_dict"
      ]
    },
    {
      "cell_type": "code",
      "execution_count": 20,
      "metadata": {
        "id": "_UMoK7Pi7YQK"
      },
      "outputs": [],
      "source": [
        "target_dict = {}\n",
        "for i, el in spam_dict.items():\n",
        "  el = 1 / (el / dataset['target'].value_counts().sum()) / 5\n",
        "  col = {i: el}\n",
        "  target_dict.update(col)"
      ]
    },
    {
      "cell_type": "code",
      "execution_count": 21,
      "metadata": {
        "colab": {
          "base_uri": "https://localhost:8080/"
        },
        "id": "E1bP5sVw7sPu",
        "outputId": "17764dfb-d4aa-4246-9ad5-1cb77f55a80d"
      },
      "outputs": [
        {
          "data": {
            "text/plain": [
              "{0: 0.23096373056994818, 1: 1.491834002677376}"
            ]
          },
          "execution_count": 21,
          "metadata": {},
          "output_type": "execute_result"
        }
      ],
      "source": [
        "target_dict"
      ]
    },
    {
      "cell_type": "code",
      "execution_count": 22,
      "metadata": {
        "colab": {
          "base_uri": "https://localhost:8080/",
          "height": 206
        },
        "id": "5lfQfbC81jMU",
        "outputId": "35b29f55-8f36-47d5-8daa-37a34b08a2fc"
      },
      "outputs": [
        {
          "data": {
            "text/html": [
              "\n",
              "  <div id=\"df-971d84ae-ab4a-440e-8950-668cf9aabc10\">\n",
              "    <div class=\"colab-df-container\">\n",
              "      <div>\n",
              "<style scoped>\n",
              "    .dataframe tbody tr th:only-of-type {\n",
              "        vertical-align: middle;\n",
              "    }\n",
              "\n",
              "    .dataframe tbody tr th {\n",
              "        vertical-align: top;\n",
              "    }\n",
              "\n",
              "    .dataframe thead th {\n",
              "        text-align: right;\n",
              "    }\n",
              "</style>\n",
              "<table border=\"1\" class=\"dataframe\">\n",
              "  <thead>\n",
              "    <tr style=\"text-align: right;\">\n",
              "      <th></th>\n",
              "      <th>v1</th>\n",
              "      <th>v2</th>\n",
              "      <th>txt_clean</th>\n",
              "      <th>txt_encoded</th>\n",
              "      <th>target</th>\n",
              "    </tr>\n",
              "  </thead>\n",
              "  <tbody>\n",
              "    <tr>\n",
              "      <th>0</th>\n",
              "      <td>ham</td>\n",
              "      <td>Go until jurong point, crazy.. Available only ...</td>\n",
              "      <td>go until jurong point crazy availabl only in b...</td>\n",
              "      <td>[42, 446, 1, 402, 698, 669, 63, 7, 1, 88, 115,...</td>\n",
              "      <td>0</td>\n",
              "    </tr>\n",
              "    <tr>\n",
              "      <th>1</th>\n",
              "      <td>ham</td>\n",
              "      <td>Ok lar... Joking wif u oni...</td>\n",
              "      <td>ok lar joking wif u oni</td>\n",
              "      <td>[44, 310, 1, 414, 5, 1]</td>\n",
              "      <td>0</td>\n",
              "    </tr>\n",
              "    <tr>\n",
              "      <th>2</th>\n",
              "      <td>spam</td>\n",
              "      <td>Free entry in 2 a wkly comp to win FA Cup fina...</td>\n",
              "      <td>free entry in 2 wkly comp to win fa cup final ...</td>\n",
              "      <td>[46, 464, 7, 18, 735, 872, 2, 170, 1, 1, 617, ...</td>\n",
              "      <td>1</td>\n",
              "    </tr>\n",
              "    <tr>\n",
              "      <th>3</th>\n",
              "      <td>ham</td>\n",
              "      <td>U dun say so early hor... U c already then say...</td>\n",
              "      <td>u dun say so early hor u c already then say</td>\n",
              "      <td>[5, 230, 108, 20, 358, 1, 5, 161, 143, 58, 108]</td>\n",
              "      <td>0</td>\n",
              "    </tr>\n",
              "    <tr>\n",
              "      <th>4</th>\n",
              "      <td>ham</td>\n",
              "      <td>Nah I don't think he goes to usf, he lives aro...</td>\n",
              "      <td>nah don' t think he goe to usf he live around ...</td>\n",
              "      <td>[924, 90, 28, 96, 67, 465, 2, 873, 67, 251, 20...</td>\n",
              "      <td>0</td>\n",
              "    </tr>\n",
              "  </tbody>\n",
              "</table>\n",
              "</div>\n",
              "      <button class=\"colab-df-convert\" onclick=\"convertToInteractive('df-971d84ae-ab4a-440e-8950-668cf9aabc10')\"\n",
              "              title=\"Convert this dataframe to an interactive table.\"\n",
              "              style=\"display:none;\">\n",
              "        \n",
              "  <svg xmlns=\"http://www.w3.org/2000/svg\" height=\"24px\"viewBox=\"0 0 24 24\"\n",
              "       width=\"24px\">\n",
              "    <path d=\"M0 0h24v24H0V0z\" fill=\"none\"/>\n",
              "    <path d=\"M18.56 5.44l.94 2.06.94-2.06 2.06-.94-2.06-.94-.94-2.06-.94 2.06-2.06.94zm-11 1L8.5 8.5l.94-2.06 2.06-.94-2.06-.94L8.5 2.5l-.94 2.06-2.06.94zm10 10l.94 2.06.94-2.06 2.06-.94-2.06-.94-.94-2.06-.94 2.06-2.06.94z\"/><path d=\"M17.41 7.96l-1.37-1.37c-.4-.4-.92-.59-1.43-.59-.52 0-1.04.2-1.43.59L10.3 9.45l-7.72 7.72c-.78.78-.78 2.05 0 2.83L4 21.41c.39.39.9.59 1.41.59.51 0 1.02-.2 1.41-.59l7.78-7.78 2.81-2.81c.8-.78.8-2.07 0-2.86zM5.41 20L4 18.59l7.72-7.72 1.47 1.35L5.41 20z\"/>\n",
              "  </svg>\n",
              "      </button>\n",
              "      \n",
              "  <style>\n",
              "    .colab-df-container {\n",
              "      display:flex;\n",
              "      flex-wrap:wrap;\n",
              "      gap: 12px;\n",
              "    }\n",
              "\n",
              "    .colab-df-convert {\n",
              "      background-color: #E8F0FE;\n",
              "      border: none;\n",
              "      border-radius: 50%;\n",
              "      cursor: pointer;\n",
              "      display: none;\n",
              "      fill: #1967D2;\n",
              "      height: 32px;\n",
              "      padding: 0 0 0 0;\n",
              "      width: 32px;\n",
              "    }\n",
              "\n",
              "    .colab-df-convert:hover {\n",
              "      background-color: #E2EBFA;\n",
              "      box-shadow: 0px 1px 2px rgba(60, 64, 67, 0.3), 0px 1px 3px 1px rgba(60, 64, 67, 0.15);\n",
              "      fill: #174EA6;\n",
              "    }\n",
              "\n",
              "    [theme=dark] .colab-df-convert {\n",
              "      background-color: #3B4455;\n",
              "      fill: #D2E3FC;\n",
              "    }\n",
              "\n",
              "    [theme=dark] .colab-df-convert:hover {\n",
              "      background-color: #434B5C;\n",
              "      box-shadow: 0px 1px 3px 1px rgba(0, 0, 0, 0.15);\n",
              "      filter: drop-shadow(0px 1px 2px rgba(0, 0, 0, 0.3));\n",
              "      fill: #FFFFFF;\n",
              "    }\n",
              "  </style>\n",
              "\n",
              "      <script>\n",
              "        const buttonEl =\n",
              "          document.querySelector('#df-971d84ae-ab4a-440e-8950-668cf9aabc10 button.colab-df-convert');\n",
              "        buttonEl.style.display =\n",
              "          google.colab.kernel.accessAllowed ? 'block' : 'none';\n",
              "\n",
              "        async function convertToInteractive(key) {\n",
              "          const element = document.querySelector('#df-971d84ae-ab4a-440e-8950-668cf9aabc10');\n",
              "          const dataTable =\n",
              "            await google.colab.kernel.invokeFunction('convertToInteractive',\n",
              "                                                     [key], {});\n",
              "          if (!dataTable) return;\n",
              "\n",
              "          const docLinkHtml = 'Like what you see? Visit the ' +\n",
              "            '<a target=\"_blank\" href=https://colab.research.google.com/notebooks/data_table.ipynb>data table notebook</a>'\n",
              "            + ' to learn more about interactive tables.';\n",
              "          element.innerHTML = '';\n",
              "          dataTable['output_type'] = 'display_data';\n",
              "          await google.colab.output.renderOutput(dataTable, element);\n",
              "          const docLink = document.createElement('div');\n",
              "          docLink.innerHTML = docLinkHtml;\n",
              "          element.appendChild(docLink);\n",
              "        }\n",
              "      </script>\n",
              "    </div>\n",
              "  </div>\n",
              "  "
            ],
            "text/plain": [
              "     v1                                                 v2  \\\n",
              "0   ham  Go until jurong point, crazy.. Available only ...   \n",
              "1   ham                      Ok lar... Joking wif u oni...   \n",
              "2  spam  Free entry in 2 a wkly comp to win FA Cup fina...   \n",
              "3   ham  U dun say so early hor... U c already then say...   \n",
              "4   ham  Nah I don't think he goes to usf, he lives aro...   \n",
              "\n",
              "                                           txt_clean  \\\n",
              "0  go until jurong point crazy availabl only in b...   \n",
              "1                            ok lar joking wif u oni   \n",
              "2  free entry in 2 wkly comp to win fa cup final ...   \n",
              "3        u dun say so early hor u c already then say   \n",
              "4  nah don' t think he goe to usf he live around ...   \n",
              "\n",
              "                                         txt_encoded  target  \n",
              "0  [42, 446, 1, 402, 698, 669, 63, 7, 1, 88, 115,...       0  \n",
              "1                            [44, 310, 1, 414, 5, 1]       0  \n",
              "2  [46, 464, 7, 18, 735, 872, 2, 170, 1, 1, 617, ...       1  \n",
              "3    [5, 230, 108, 20, 358, 1, 5, 161, 143, 58, 108]       0  \n",
              "4  [924, 90, 28, 96, 67, 465, 2, 873, 67, 251, 20...       0  "
            ]
          },
          "execution_count": 22,
          "metadata": {},
          "output_type": "execute_result"
        }
      ],
      "source": [
        "dataset.head()"
      ]
    },
    {
      "cell_type": "code",
      "execution_count": null,
      "metadata": {
        "id": "_WTX-cxR6xKC"
      },
      "outputs": [],
      "source": []
    },
    {
      "cell_type": "code",
      "execution_count": 23,
      "metadata": {
        "id": "iZUo-Pwx6Eq0"
      },
      "outputs": [],
      "source": [
        "from sklearn.model_selection import train_test_split"
      ]
    },
    {
      "cell_type": "code",
      "execution_count": 24,
      "metadata": {
        "id": "UFQRRp088W1q"
      },
      "outputs": [],
      "source": [
        "txt_pad = tf.keras.preprocessing.sequence.pad_sequences(dataset[\"txt_encoded\"], padding=\"post\")"
      ]
    },
    {
      "cell_type": "code",
      "execution_count": 25,
      "metadata": {
        "id": "Bn60CsqI6OXX"
      },
      "outputs": [],
      "source": [
        "xtrain, xval, ytrain, yval = train_test_split(txt_pad, dataset['target'], test_size=0.3)"
      ]
    },
    {
      "cell_type": "code",
      "execution_count": 26,
      "metadata": {
        "id": "aiO3y2Ey8PNe"
      },
      "outputs": [],
      "source": [
        "train = tf.data.Dataset.from_tensor_slices((xtrain, ytrain))\n",
        "val = tf.data.Dataset.from_tensor_slices((xval, yval))\n",
        "train_batch = train.shuffle(len(train)).batch(64)\n",
        "val_batch = val.shuffle(len(val)).batch(64)"
      ]
    },
    {
      "cell_type": "code",
      "execution_count": 27,
      "metadata": {
        "colab": {
          "base_uri": "https://localhost:8080/"
        },
        "id": "s_fcpXxM8Jbh",
        "outputId": "96b070df-40d2-4f1d-95dc-06b785aa41c4"
      },
      "outputs": [
        {
          "name": "stdout",
          "output_type": "stream",
          "text": [
            "tf.Tensor(\n",
            "[[752   1 405 ...   0   0   0]\n",
            " [ 81 860   1 ...   0   0   0]\n",
            " [ 34 983   2 ...   0   0   0]\n",
            " ...\n",
            " [ 46 398 330 ...   0   0   0]\n",
            " [862  37   1 ...   0   0   0]\n",
            " [217   8 123 ...   0   0   0]], shape=(64, 164), dtype=int32) tf.Tensor(\n",
            "[0 0 0 0 0 0 0 0 0 0 0 1 0 0 0 0 0 0 0 0 1 0 0 0 0 0 0 0 0 0 0 0 0 1 0 0 0\n",
            " 0 0 0 0 0 1 1 1 0 0 0 0 0 0 0 0 0 0 0 0 0 0 0 0 1 0 0], shape=(64,), dtype=int64)\n"
          ]
        }
      ],
      "source": [
        "for txt, target in train_batch.take(1):\n",
        "  print(txt, target)"
      ]
    },
    {
      "cell_type": "code",
      "execution_count": null,
      "metadata": {
        "id": "obfBvWQf8scx"
      },
      "outputs": [],
      "source": []
    },
    {
      "cell_type": "code",
      "execution_count": null,
      "metadata": {
        "id": "-Jb7801i8snP"
      },
      "outputs": [],
      "source": []
    },
    {
      "cell_type": "code",
      "execution_count": 28,
      "metadata": {
        "id": "cXmAv0_u6YdO"
      },
      "outputs": [],
      "source": [
        "from tensorflow.keras import Sequential\n",
        "from tensorflow.keras.layers import Dense, Embedding, GlobalAveragePooling1D\n",
        "from tensorflow.keras.layers.experimental.preprocessing import TextVectorization\n",
        "import re\n",
        "import shutil\n",
        "import string\n",
        "from tensorflow.keras.layers import SimpleRNN\n",
        "from tensorflow.keras.layers import GRU"
      ]
    },
    {
      "cell_type": "code",
      "execution_count": null,
      "metadata": {
        "id": "ZfyIC12Bilw0"
      },
      "outputs": [],
      "source": []
    },
    {
      "cell_type": "code",
      "execution_count": 30,
      "metadata": {
        "id": "sYaYW4fL-XLi"
      },
      "outputs": [],
      "source": [
        "embedding_dim=8\n",
        "\n",
        "vocab_size = tokenizer.num_words # the number of words in the vocabulary\n",
        "model = Sequential([\n",
        "  Embedding(vocab_size+1, embedding_dim, input_shape=[txt.shape[1],], name=\"embedding\"), # the embedding layer\n",
        "  # the input dim needs to be equal to the size of the vocabulary + 1 (because of\n",
        "  # the zero padding)\n",
        "  GlobalAveragePooling1D(), # this will pick the average for every word in the sentence\n",
        "  # along each dimension of the representation space.\n",
        "  Dense(16, activation='relu'), # a dense layer\n",
        "  Dense(1, activation=\"sigmoid\") # the prediction layer\n",
        "])"
      ]
    },
    {
      "cell_type": "code",
      "execution_count": 31,
      "metadata": {
        "colab": {
          "base_uri": "https://localhost:8080/"
        },
        "id": "UasuUAdz8A8q",
        "outputId": "b6855edf-a3fe-4ed2-ed17-4d37ff92bbc7"
      },
      "outputs": [
        {
          "name": "stdout",
          "output_type": "stream",
          "text": [
            "Model: \"sequential\"\n",
            "_________________________________________________________________\n",
            " Layer (type)                Output Shape              Param #   \n",
            "=================================================================\n",
            " embedding (Embedding)       (None, 164, 8)            8008      \n",
            "                                                                 \n",
            " global_average_pooling1d (G  (None, 8)                0         \n",
            " lobalAveragePooling1D)                                          \n",
            "                                                                 \n",
            " dense (Dense)               (None, 16)                144       \n",
            "                                                                 \n",
            " dense_1 (Dense)             (None, 1)                 17        \n",
            "                                                                 \n",
            "=================================================================\n",
            "Total params: 8,169\n",
            "Trainable params: 8,169\n",
            "Non-trainable params: 0\n",
            "_________________________________________________________________\n"
          ]
        }
      ],
      "source": [
        "model.summary()"
      ]
    },
    {
      "cell_type": "code",
      "execution_count": 32,
      "metadata": {
        "id": "4mgiIvn09OMM"
      },
      "outputs": [],
      "source": [
        "model.compile(optimizer='adam',\n",
        "              loss=tf.keras.losses.BinaryCrossentropy(),\n",
        "              metrics=['accuracy'])"
      ]
    },
    {
      "cell_type": "code",
      "execution_count": 33,
      "metadata": {
        "colab": {
          "base_uri": "https://localhost:8080/"
        },
        "id": "WECRn9_r9YzN",
        "outputId": "03c4fc31-38ca-46b4-c2f6-b12f6b9dd7be"
      },
      "outputs": [
        {
          "name": "stdout",
          "output_type": "stream",
          "text": [
            "Epoch 1/50\n",
            "61/61 [==============================] - 2s 9ms/step - loss: 0.2721 - accuracy: 0.6538 - val_loss: 0.6839 - val_accuracy: 0.8529\n",
            "Epoch 2/50\n",
            "61/61 [==============================] - 0s 5ms/step - loss: 0.2710 - accuracy: 0.8713 - val_loss: 0.6729 - val_accuracy: 0.8517\n",
            "Epoch 3/50\n",
            "61/61 [==============================] - 0s 5ms/step - loss: 0.2683 - accuracy: 0.8903 - val_loss: 0.6660 - val_accuracy: 0.9246\n",
            "Epoch 4/50\n",
            "61/61 [==============================] - 0s 6ms/step - loss: 0.2614 - accuracy: 0.9244 - val_loss: 0.6110 - val_accuracy: 0.8882\n",
            "Epoch 5/50\n",
            "61/61 [==============================] - 0s 6ms/step - loss: 0.2470 - accuracy: 0.9446 - val_loss: 0.5767 - val_accuracy: 0.9438\n",
            "Epoch 6/50\n",
            "61/61 [==============================] - 0s 5ms/step - loss: 0.2237 - accuracy: 0.9497 - val_loss: 0.4905 - val_accuracy: 0.9456\n",
            "Epoch 7/50\n",
            "61/61 [==============================] - 0s 5ms/step - loss: 0.1949 - accuracy: 0.9551 - val_loss: 0.4122 - val_accuracy: 0.9474\n",
            "Epoch 8/50\n",
            "61/61 [==============================] - 0s 5ms/step - loss: 0.1654 - accuracy: 0.9533 - val_loss: 0.3273 - val_accuracy: 0.9498\n",
            "Epoch 9/50\n",
            "61/61 [==============================] - 0s 5ms/step - loss: 0.1393 - accuracy: 0.9528 - val_loss: 0.3014 - val_accuracy: 0.9420\n",
            "Epoch 10/50\n",
            "61/61 [==============================] - 0s 5ms/step - loss: 0.1182 - accuracy: 0.9533 - val_loss: 0.2608 - val_accuracy: 0.9432\n",
            "Epoch 11/50\n",
            "61/61 [==============================] - 0s 5ms/step - loss: 0.1022 - accuracy: 0.9518 - val_loss: 0.2133 - val_accuracy: 0.9492\n",
            "Epoch 12/50\n",
            "61/61 [==============================] - 0s 6ms/step - loss: 0.0894 - accuracy: 0.9528 - val_loss: 0.1948 - val_accuracy: 0.9510\n",
            "Epoch 13/50\n",
            "61/61 [==============================] - 0s 6ms/step - loss: 0.0802 - accuracy: 0.9554 - val_loss: 0.1846 - val_accuracy: 0.9504\n",
            "Epoch 14/50\n",
            "61/61 [==============================] - 0s 6ms/step - loss: 0.0729 - accuracy: 0.9577 - val_loss: 0.1633 - val_accuracy: 0.9551\n",
            "Epoch 15/50\n",
            "61/61 [==============================] - 0s 6ms/step - loss: 0.0671 - accuracy: 0.9610 - val_loss: 0.1546 - val_accuracy: 0.9563\n",
            "Epoch 16/50\n",
            "61/61 [==============================] - 0s 5ms/step - loss: 0.0627 - accuracy: 0.9610 - val_loss: 0.1533 - val_accuracy: 0.9569\n",
            "Epoch 17/50\n",
            "61/61 [==============================] - 0s 5ms/step - loss: 0.0579 - accuracy: 0.9638 - val_loss: 0.1279 - val_accuracy: 0.9629\n",
            "Epoch 18/50\n",
            "61/61 [==============================] - 0s 5ms/step - loss: 0.0546 - accuracy: 0.9669 - val_loss: 0.1240 - val_accuracy: 0.9617\n",
            "Epoch 19/50\n",
            "61/61 [==============================] - 0s 6ms/step - loss: 0.0515 - accuracy: 0.9692 - val_loss: 0.1192 - val_accuracy: 0.9647\n",
            "Epoch 20/50\n",
            "61/61 [==============================] - 0s 7ms/step - loss: 0.0486 - accuracy: 0.9708 - val_loss: 0.1342 - val_accuracy: 0.9593\n",
            "Epoch 21/50\n",
            "61/61 [==============================] - 0s 6ms/step - loss: 0.0461 - accuracy: 0.9726 - val_loss: 0.1110 - val_accuracy: 0.9671\n",
            "Epoch 22/50\n",
            "61/61 [==============================] - 0s 6ms/step - loss: 0.0442 - accuracy: 0.9733 - val_loss: 0.1065 - val_accuracy: 0.9683\n",
            "Epoch 23/50\n",
            "61/61 [==============================] - 0s 5ms/step - loss: 0.0422 - accuracy: 0.9744 - val_loss: 0.0963 - val_accuracy: 0.9707\n",
            "Epoch 24/50\n",
            "61/61 [==============================] - 0s 6ms/step - loss: 0.0405 - accuracy: 0.9751 - val_loss: 0.1068 - val_accuracy: 0.9689\n",
            "Epoch 25/50\n",
            "61/61 [==============================] - 0s 6ms/step - loss: 0.0386 - accuracy: 0.9762 - val_loss: 0.0920 - val_accuracy: 0.9701\n",
            "Epoch 26/50\n",
            "61/61 [==============================] - 0s 6ms/step - loss: 0.0377 - accuracy: 0.9795 - val_loss: 0.0974 - val_accuracy: 0.9701\n",
            "Epoch 27/50\n",
            "61/61 [==============================] - 0s 5ms/step - loss: 0.0357 - accuracy: 0.9790 - val_loss: 0.1172 - val_accuracy: 0.9713\n",
            "Epoch 28/50\n",
            "61/61 [==============================] - 0s 6ms/step - loss: 0.0344 - accuracy: 0.9790 - val_loss: 0.1041 - val_accuracy: 0.9731\n",
            "Epoch 29/50\n",
            "61/61 [==============================] - 0s 5ms/step - loss: 0.0331 - accuracy: 0.9774 - val_loss: 0.0855 - val_accuracy: 0.9713\n",
            "Epoch 30/50\n",
            "61/61 [==============================] - 0s 5ms/step - loss: 0.0327 - accuracy: 0.9795 - val_loss: 0.0927 - val_accuracy: 0.9731\n",
            "Epoch 31/50\n",
            "61/61 [==============================] - 0s 5ms/step - loss: 0.0314 - accuracy: 0.9808 - val_loss: 0.0938 - val_accuracy: 0.9731\n",
            "Epoch 32/50\n",
            "61/61 [==============================] - 0s 6ms/step - loss: 0.0301 - accuracy: 0.9813 - val_loss: 0.0862 - val_accuracy: 0.9743\n",
            "Epoch 33/50\n",
            "61/61 [==============================] - 0s 4ms/step - loss: 0.0293 - accuracy: 0.9821 - val_loss: 0.0780 - val_accuracy: 0.9731\n",
            "Epoch 34/50\n",
            "61/61 [==============================] - 0s 5ms/step - loss: 0.0281 - accuracy: 0.9826 - val_loss: 0.0752 - val_accuracy: 0.9731\n",
            "Epoch 35/50\n",
            "61/61 [==============================] - 0s 5ms/step - loss: 0.0274 - accuracy: 0.9833 - val_loss: 0.0903 - val_accuracy: 0.9737\n",
            "Epoch 36/50\n",
            "61/61 [==============================] - 0s 5ms/step - loss: 0.0265 - accuracy: 0.9831 - val_loss: 0.0701 - val_accuracy: 0.9731\n",
            "Epoch 37/50\n",
            "61/61 [==============================] - 0s 4ms/step - loss: 0.0268 - accuracy: 0.9836 - val_loss: 0.0733 - val_accuracy: 0.9737\n",
            "Epoch 38/50\n",
            "61/61 [==============================] - 0s 5ms/step - loss: 0.0252 - accuracy: 0.9838 - val_loss: 0.0747 - val_accuracy: 0.9749\n",
            "Epoch 39/50\n",
            "61/61 [==============================] - 0s 5ms/step - loss: 0.0246 - accuracy: 0.9844 - val_loss: 0.0711 - val_accuracy: 0.9743\n",
            "Epoch 40/50\n",
            "61/61 [==============================] - 0s 6ms/step - loss: 0.0239 - accuracy: 0.9859 - val_loss: 0.0866 - val_accuracy: 0.9749\n",
            "Epoch 41/50\n",
            "61/61 [==============================] - 0s 6ms/step - loss: 0.0236 - accuracy: 0.9841 - val_loss: 0.0753 - val_accuracy: 0.9749\n",
            "Epoch 42/50\n",
            "61/61 [==============================] - 0s 6ms/step - loss: 0.0224 - accuracy: 0.9862 - val_loss: 0.0813 - val_accuracy: 0.9755\n",
            "Epoch 43/50\n",
            "61/61 [==============================] - 0s 6ms/step - loss: 0.0224 - accuracy: 0.9841 - val_loss: 0.0720 - val_accuracy: 0.9755\n",
            "Epoch 44/50\n",
            "61/61 [==============================] - 0s 5ms/step - loss: 0.0216 - accuracy: 0.9874 - val_loss: 0.0742 - val_accuracy: 0.9761\n",
            "Epoch 45/50\n",
            "61/61 [==============================] - 0s 5ms/step - loss: 0.0206 - accuracy: 0.9869 - val_loss: 0.0638 - val_accuracy: 0.9797\n",
            "Epoch 46/50\n",
            "61/61 [==============================] - 0s 6ms/step - loss: 0.0203 - accuracy: 0.9869 - val_loss: 0.0630 - val_accuracy: 0.9797\n",
            "Epoch 47/50\n",
            "61/61 [==============================] - 0s 5ms/step - loss: 0.0202 - accuracy: 0.9885 - val_loss: 0.0651 - val_accuracy: 0.9791\n",
            "Epoch 48/50\n",
            "61/61 [==============================] - 0s 4ms/step - loss: 0.0192 - accuracy: 0.9890 - val_loss: 0.0833 - val_accuracy: 0.9731\n",
            "Epoch 49/50\n",
            "61/61 [==============================] - 0s 5ms/step - loss: 0.0191 - accuracy: 0.9877 - val_loss: 0.0785 - val_accuracy: 0.9743\n",
            "Epoch 50/50\n",
            "61/61 [==============================] - 0s 5ms/step - loss: 0.0194 - accuracy: 0.9872 - val_loss: 0.0632 - val_accuracy: 0.9791\n"
          ]
        },
        {
          "data": {
            "text/plain": [
              "<keras.callbacks.History at 0x7f12943c2bd0>"
            ]
          },
          "execution_count": 33,
          "metadata": {},
          "output_type": "execute_result"
        }
      ],
      "source": [
        "model.fit(\n",
        "    train_batch,\n",
        "    validation_data=val_batch,\n",
        "    class_weight=target_dict,\n",
        "    epochs=50)"
      ]
    },
    {
      "cell_type": "code",
      "execution_count": 48,
      "metadata": {
        "id": "yDEPQDoWj1zs"
      },
      "outputs": [],
      "source": [
        "tensorboard_callback = tf.keras.callbacks.TensorBoard(log_dir=\"logs\")\n",
        "\n",
        "from keras import backend as K\n",
        "\n",
        "def recall_m(y_true, y_pred):\n",
        "    true_positives = K.sum(K.round(K.clip(y_true * y_pred, 0, 1)))\n",
        "    possible_positives = K.sum(K.round(K.clip(y_true, 0, 1)))\n",
        "    recall = true_positives / (possible_positives + K.epsilon())\n",
        "    return recall\n",
        "\n",
        "def precision_m(y_true, y_pred):\n",
        "    true_positives = K.sum(K.round(K.clip(y_true * y_pred, 0, 1)))\n",
        "    predicted_positives = K.sum(K.round(K.clip(y_pred, 0, 1)))\n",
        "    precision = true_positives / (predicted_positives + K.epsilon())\n",
        "    return precision\n",
        "\n",
        "def f1_m(y_true, y_pred):\n",
        "    precision = precision_m(y_true, y_pred)\n",
        "    recall = recall_m(y_true, y_pred)\n",
        "    return 2*((precision*recall)/(precision+recall+K.epsilon()))\n",
        "\n",
        "# compile the model\n",
        "#model.compile(optimizer='adam', loss='binary_crossentropy', metrics=['acc',f1_m,precision_m, recall_m])\n",
        "\n",
        "# fit the model\n",
        "#history = model.fit(xtrain, ytrain, validation_split=0.3, epochs=10, verbose=0)\n",
        "\n",
        "#model.fit(train_batch, validation_data=val_batch, class_weight=target_dict, epochs=50, verbose=0, callbacks=[tensorboard_callback])\n",
        "\n",
        "# evaluate the model\n",
        "#loss, accuracy, f1_score, precision, recall = model.evaluate(xval, yval, verbose=0)"
      ]
    },
    {
      "cell_type": "code",
      "execution_count": 49,
      "metadata": {
        "id": "R0Geh-OZrhBr"
      },
      "outputs": [],
      "source": [
        "model.compile(optimizer='adam', loss=tf.keras.losses.BinaryCrossentropy(), metrics=['acc',f1_m,precision_m, recall_m])"
      ]
    },
    {
      "cell_type": "code",
      "execution_count": 51,
      "metadata": {
        "colab": {
          "base_uri": "https://localhost:8080/"
        },
        "id": "aBmd2lLfl7Vj",
        "outputId": "a429d72d-f5dd-418e-c20a-d36bffc0fe82"
      },
      "outputs": [
        {
          "name": "stdout",
          "output_type": "stream",
          "text": [
            "Epoch 1/50\n",
            "61/61 [==============================] - 0s 5ms/step - loss: 0.0042 - acc: 0.9982 - f1_m: 0.9905 - precision_m: 0.9901 - recall_m: 0.9925 - val_loss: 0.1111 - val_acc: 0.9791 - val_f1_m: 0.8939 - val_precision_m: 0.9009 - val_recall_m: 0.8952\n",
            "Epoch 2/50\n",
            "61/61 [==============================] - 0s 5ms/step - loss: 0.0045 - acc: 0.9990 - f1_m: 0.9960 - precision_m: 0.9956 - recall_m: 0.9969 - val_loss: 0.1129 - val_acc: 0.9797 - val_f1_m: 0.9296 - val_precision_m: 0.9530 - val_recall_m: 0.9150\n",
            "Epoch 3/50\n",
            "61/61 [==============================] - 0s 5ms/step - loss: 0.0044 - acc: 0.9990 - f1_m: 0.9952 - precision_m: 0.9952 - recall_m: 0.9959 - val_loss: 0.1117 - val_acc: 0.9779 - val_f1_m: 0.9264 - val_precision_m: 0.9439 - val_recall_m: 0.9163\n",
            "Epoch 4/50\n",
            "61/61 [==============================] - 1s 10ms/step - loss: 0.0045 - acc: 0.9985 - f1_m: 0.9941 - precision_m: 0.9924 - recall_m: 0.9965 - val_loss: 0.1146 - val_acc: 0.9791 - val_f1_m: 0.9304 - val_precision_m: 0.9524 - val_recall_m: 0.9164\n",
            "Epoch 5/50\n",
            "61/61 [==============================] - 0s 5ms/step - loss: 0.0044 - acc: 0.9985 - f1_m: 0.9935 - precision_m: 0.9916 - recall_m: 0.9964 - val_loss: 0.1153 - val_acc: 0.9791 - val_f1_m: 0.9349 - val_precision_m: 0.9567 - val_recall_m: 0.9192\n",
            "Epoch 6/50\n",
            "61/61 [==============================] - 0s 5ms/step - loss: 0.0045 - acc: 0.9985 - f1_m: 0.9934 - precision_m: 0.9927 - recall_m: 0.9949 - val_loss: 0.1128 - val_acc: 0.9779 - val_f1_m: 0.9176 - val_precision_m: 0.9300 - val_recall_m: 0.9131\n",
            "Epoch 7/50\n",
            "61/61 [==============================] - 0s 5ms/step - loss: 0.0047 - acc: 0.9987 - f1_m: 0.9941 - precision_m: 0.9960 - recall_m: 0.9930 - val_loss: 0.1146 - val_acc: 0.9791 - val_f1_m: 0.8942 - val_precision_m: 0.8969 - val_recall_m: 0.8969\n",
            "Epoch 8/50\n",
            "61/61 [==============================] - 0s 6ms/step - loss: 0.0045 - acc: 0.9977 - f1_m: 0.9900 - precision_m: 0.9851 - recall_m: 0.9967 - val_loss: 0.1140 - val_acc: 0.9791 - val_f1_m: 0.9243 - val_precision_m: 0.9444 - val_recall_m: 0.9129\n",
            "Epoch 9/50\n",
            "61/61 [==============================] - 0s 5ms/step - loss: 0.0046 - acc: 0.9982 - f1_m: 0.9946 - precision_m: 0.9935 - recall_m: 0.9962 - val_loss: 0.1174 - val_acc: 0.9791 - val_f1_m: 0.9261 - val_precision_m: 0.9457 - val_recall_m: 0.9154\n",
            "Epoch 10/50\n",
            "61/61 [==============================] - 0s 5ms/step - loss: 0.0040 - acc: 0.9982 - f1_m: 0.9925 - precision_m: 0.9918 - recall_m: 0.9942 - val_loss: 0.1161 - val_acc: 0.9785 - val_f1_m: 0.9309 - val_precision_m: 0.9348 - val_recall_m: 0.9334\n",
            "Epoch 11/50\n",
            "61/61 [==============================] - 0s 5ms/step - loss: 0.0044 - acc: 0.9987 - f1_m: 0.9946 - precision_m: 0.9949 - recall_m: 0.9954 - val_loss: 0.1165 - val_acc: 0.9785 - val_f1_m: 0.8895 - val_precision_m: 0.9044 - val_recall_m: 0.8845\n",
            "Epoch 12/50\n",
            "61/61 [==============================] - 0s 5ms/step - loss: 0.0041 - acc: 0.9987 - f1_m: 0.9937 - precision_m: 0.9930 - recall_m: 0.9954 - val_loss: 0.1167 - val_acc: 0.9785 - val_f1_m: 0.9326 - val_precision_m: 0.9459 - val_recall_m: 0.9243\n",
            "Epoch 13/50\n",
            "61/61 [==============================] - 0s 5ms/step - loss: 0.0042 - acc: 0.9982 - f1_m: 0.9935 - precision_m: 0.9905 - recall_m: 0.9971 - val_loss: 0.1198 - val_acc: 0.9797 - val_f1_m: 0.9325 - val_precision_m: 0.9594 - val_recall_m: 0.9137\n",
            "Epoch 14/50\n",
            "61/61 [==============================] - 0s 5ms/step - loss: 0.0044 - acc: 0.9982 - f1_m: 0.9932 - precision_m: 0.9914 - recall_m: 0.9956 - val_loss: 0.1201 - val_acc: 0.9797 - val_f1_m: 0.9263 - val_precision_m: 0.9499 - val_recall_m: 0.9119\n",
            "Epoch 15/50\n",
            "61/61 [==============================] - 0s 5ms/step - loss: 0.0041 - acc: 0.9979 - f1_m: 0.9910 - precision_m: 0.9883 - recall_m: 0.9954 - val_loss: 0.1215 - val_acc: 0.9791 - val_f1_m: 0.9267 - val_precision_m: 0.9582 - val_recall_m: 0.9027\n",
            "Epoch 16/50\n",
            "61/61 [==============================] - 0s 5ms/step - loss: 0.0046 - acc: 0.9987 - f1_m: 0.9949 - precision_m: 0.9945 - recall_m: 0.9962 - val_loss: 0.1231 - val_acc: 0.9797 - val_f1_m: 0.9180 - val_precision_m: 0.9537 - val_recall_m: 0.8903\n",
            "Epoch 17/50\n",
            "61/61 [==============================] - 0s 5ms/step - loss: 0.0044 - acc: 0.9985 - f1_m: 0.9922 - precision_m: 0.9895 - recall_m: 0.9961 - val_loss: 0.1251 - val_acc: 0.9791 - val_f1_m: 0.9288 - val_precision_m: 0.9650 - val_recall_m: 0.8995\n",
            "Epoch 18/50\n",
            "61/61 [==============================] - 0s 5ms/step - loss: 0.0044 - acc: 0.9990 - f1_m: 0.9952 - precision_m: 0.9958 - recall_m: 0.9952 - val_loss: 0.1184 - val_acc: 0.9779 - val_f1_m: 0.8879 - val_precision_m: 0.9083 - val_recall_m: 0.8755\n",
            "Epoch 19/50\n",
            "61/61 [==============================] - 0s 5ms/step - loss: 0.0040 - acc: 0.9987 - f1_m: 0.9950 - precision_m: 0.9938 - recall_m: 0.9969 - val_loss: 0.1202 - val_acc: 0.9791 - val_f1_m: 0.9220 - val_precision_m: 0.9310 - val_recall_m: 0.9172\n",
            "Epoch 20/50\n",
            "61/61 [==============================] - 0s 5ms/step - loss: 0.0044 - acc: 0.9990 - f1_m: 0.9961 - precision_m: 0.9966 - recall_m: 0.9960 - val_loss: 0.1196 - val_acc: 0.9779 - val_f1_m: 0.9304 - val_precision_m: 0.9435 - val_recall_m: 0.9258\n",
            "Epoch 21/50\n",
            "61/61 [==============================] - 0s 5ms/step - loss: 0.0042 - acc: 0.9985 - f1_m: 0.9937 - precision_m: 0.9917 - recall_m: 0.9964 - val_loss: 0.1212 - val_acc: 0.9791 - val_f1_m: 0.8950 - val_precision_m: 0.9117 - val_recall_m: 0.8865\n",
            "Epoch 22/50\n",
            "61/61 [==============================] - 0s 5ms/step - loss: 0.0041 - acc: 0.9990 - f1_m: 0.9963 - precision_m: 0.9971 - recall_m: 0.9959 - val_loss: 0.1233 - val_acc: 0.9779 - val_f1_m: 0.9162 - val_precision_m: 0.9425 - val_recall_m: 0.9005\n",
            "Epoch 23/50\n",
            "61/61 [==============================] - 0s 5ms/step - loss: 0.0043 - acc: 0.9982 - f1_m: 0.9914 - precision_m: 0.9901 - recall_m: 0.9940 - val_loss: 0.1218 - val_acc: 0.9773 - val_f1_m: 0.8912 - val_precision_m: 0.9004 - val_recall_m: 0.8887\n",
            "Epoch 24/50\n",
            "61/61 [==============================] - 0s 5ms/step - loss: 0.0041 - acc: 0.9979 - f1_m: 0.9917 - precision_m: 0.9886 - recall_m: 0.9958 - val_loss: 0.1249 - val_acc: 0.9785 - val_f1_m: 0.9237 - val_precision_m: 0.9516 - val_recall_m: 0.9054\n",
            "Epoch 25/50\n",
            "61/61 [==============================] - 0s 5ms/step - loss: 0.0039 - acc: 0.9992 - f1_m: 0.9978 - precision_m: 0.9985 - recall_m: 0.9972 - val_loss: 0.1259 - val_acc: 0.9755 - val_f1_m: 0.8838 - val_precision_m: 0.8826 - val_recall_m: 0.8946\n",
            "Epoch 26/50\n",
            "61/61 [==============================] - 0s 5ms/step - loss: 0.0041 - acc: 0.9985 - f1_m: 0.9936 - precision_m: 0.9911 - recall_m: 0.9970 - val_loss: 0.1238 - val_acc: 0.9779 - val_f1_m: 0.9237 - val_precision_m: 0.9432 - val_recall_m: 0.9107\n",
            "Epoch 27/50\n",
            "61/61 [==============================] - 0s 5ms/step - loss: 0.0042 - acc: 0.9982 - f1_m: 0.9938 - precision_m: 0.9923 - recall_m: 0.9959 - val_loss: 0.1242 - val_acc: 0.9773 - val_f1_m: 0.8806 - val_precision_m: 0.8987 - val_recall_m: 0.8750\n",
            "Epoch 28/50\n",
            "61/61 [==============================] - 0s 5ms/step - loss: 0.0043 - acc: 0.9987 - f1_m: 0.9955 - precision_m: 0.9946 - recall_m: 0.9970 - val_loss: 0.1250 - val_acc: 0.9785 - val_f1_m: 0.9288 - val_precision_m: 0.9416 - val_recall_m: 0.9256\n",
            "Epoch 29/50\n",
            "61/61 [==============================] - 0s 5ms/step - loss: 0.0041 - acc: 0.9987 - f1_m: 0.9944 - precision_m: 0.9927 - recall_m: 0.9969 - val_loss: 0.1247 - val_acc: 0.9779 - val_f1_m: 0.9338 - val_precision_m: 0.9471 - val_recall_m: 0.9267\n",
            "Epoch 30/50\n",
            "61/61 [==============================] - 0s 5ms/step - loss: 0.0042 - acc: 0.9979 - f1_m: 0.9906 - precision_m: 0.9865 - recall_m: 0.9964 - val_loss: 0.1321 - val_acc: 0.9791 - val_f1_m: 0.9231 - val_precision_m: 0.9681 - val_recall_m: 0.8936\n",
            "Epoch 31/50\n",
            "61/61 [==============================] - 0s 5ms/step - loss: 0.0043 - acc: 0.9990 - f1_m: 0.9968 - precision_m: 0.9968 - recall_m: 0.9972 - val_loss: 0.1296 - val_acc: 0.9785 - val_f1_m: 0.9293 - val_precision_m: 0.9564 - val_recall_m: 0.9084\n",
            "Epoch 32/50\n",
            "61/61 [==============================] - 0s 5ms/step - loss: 0.0043 - acc: 0.9990 - f1_m: 0.9963 - precision_m: 0.9965 - recall_m: 0.9966 - val_loss: 0.1263 - val_acc: 0.9785 - val_f1_m: 0.9245 - val_precision_m: 0.9341 - val_recall_m: 0.9217\n",
            "Epoch 33/50\n",
            "61/61 [==============================] - 0s 5ms/step - loss: 0.0042 - acc: 0.9990 - f1_m: 0.9955 - precision_m: 0.9967 - recall_m: 0.9949 - val_loss: 0.1271 - val_acc: 0.9773 - val_f1_m: 0.9180 - val_precision_m: 0.9311 - val_recall_m: 0.9094\n",
            "Epoch 34/50\n",
            "61/61 [==============================] - 0s 5ms/step - loss: 0.0039 - acc: 0.9990 - f1_m: 0.9969 - precision_m: 0.9972 - recall_m: 0.9968 - val_loss: 0.1284 - val_acc: 0.9761 - val_f1_m: 0.9106 - val_precision_m: 0.9342 - val_recall_m: 0.9001\n",
            "Epoch 35/50\n",
            "61/61 [==============================] - 0s 5ms/step - loss: 0.0040 - acc: 0.9990 - f1_m: 0.9946 - precision_m: 0.9941 - recall_m: 0.9960 - val_loss: 0.1294 - val_acc: 0.9767 - val_f1_m: 0.8766 - val_precision_m: 0.9017 - val_recall_m: 0.8630\n",
            "Epoch 36/50\n",
            "61/61 [==============================] - 0s 5ms/step - loss: 0.0043 - acc: 0.9987 - f1_m: 0.9956 - precision_m: 0.9950 - recall_m: 0.9967 - val_loss: 0.1326 - val_acc: 0.9791 - val_f1_m: 0.8905 - val_precision_m: 0.9170 - val_recall_m: 0.8702\n",
            "Epoch 37/50\n",
            "61/61 [==============================] - 0s 5ms/step - loss: 0.0042 - acc: 0.9979 - f1_m: 0.9903 - precision_m: 0.9859 - recall_m: 0.9960 - val_loss: 0.1322 - val_acc: 0.9767 - val_f1_m: 0.9177 - val_precision_m: 0.9415 - val_recall_m: 0.9019\n",
            "Epoch 38/50\n",
            "61/61 [==============================] - 0s 5ms/step - loss: 0.0041 - acc: 0.9990 - f1_m: 0.9961 - precision_m: 0.9960 - recall_m: 0.9967 - val_loss: 0.1323 - val_acc: 0.9767 - val_f1_m: 0.9134 - val_precision_m: 0.9335 - val_recall_m: 0.9017\n",
            "Epoch 39/50\n",
            "61/61 [==============================] - 0s 5ms/step - loss: 0.0040 - acc: 0.9985 - f1_m: 0.9938 - precision_m: 0.9920 - recall_m: 0.9963 - val_loss: 0.1356 - val_acc: 0.9785 - val_f1_m: 0.9287 - val_precision_m: 0.9614 - val_recall_m: 0.9052\n",
            "Epoch 40/50\n",
            "61/61 [==============================] - 0s 5ms/step - loss: 0.0043 - acc: 0.9979 - f1_m: 0.9908 - precision_m: 0.9876 - recall_m: 0.9954 - val_loss: 0.1314 - val_acc: 0.9773 - val_f1_m: 0.9075 - val_precision_m: 0.9284 - val_recall_m: 0.9009\n",
            "Epoch 41/50\n",
            "61/61 [==============================] - 0s 5ms/step - loss: 0.0037 - acc: 0.9987 - f1_m: 0.9949 - precision_m: 0.9936 - recall_m: 0.9968 - val_loss: 0.1351 - val_acc: 0.9749 - val_f1_m: 0.8788 - val_precision_m: 0.8821 - val_recall_m: 0.8848\n",
            "Epoch 42/50\n",
            "61/61 [==============================] - 0s 5ms/step - loss: 0.0040 - acc: 0.9987 - f1_m: 0.9931 - precision_m: 0.9918 - recall_m: 0.9956 - val_loss: 0.1328 - val_acc: 0.9761 - val_f1_m: 0.8934 - val_precision_m: 0.9281 - val_recall_m: 0.8815\n",
            "Epoch 43/50\n",
            "61/61 [==============================] - 0s 5ms/step - loss: 0.0043 - acc: 0.9987 - f1_m: 0.9938 - precision_m: 0.9943 - recall_m: 0.9943 - val_loss: 0.1401 - val_acc: 0.9719 - val_f1_m: 0.8633 - val_precision_m: 0.8569 - val_recall_m: 0.8805\n",
            "Epoch 44/50\n",
            "61/61 [==============================] - 0s 5ms/step - loss: 0.0046 - acc: 0.9979 - f1_m: 0.9911 - precision_m: 0.9875 - recall_m: 0.9959 - val_loss: 0.1347 - val_acc: 0.9767 - val_f1_m: 0.9175 - val_precision_m: 0.9293 - val_recall_m: 0.9130\n",
            "Epoch 45/50\n",
            "61/61 [==============================] - 0s 7ms/step - loss: 0.0041 - acc: 0.9985 - f1_m: 0.9947 - precision_m: 0.9940 - recall_m: 0.9960 - val_loss: 0.1346 - val_acc: 0.9761 - val_f1_m: 0.8822 - val_precision_m: 0.8989 - val_recall_m: 0.8794\n",
            "Epoch 46/50\n",
            "61/61 [==============================] - 0s 6ms/step - loss: 0.0044 - acc: 0.9990 - f1_m: 0.9800 - precision_m: 0.9799 - recall_m: 0.9805 - val_loss: 0.1348 - val_acc: 0.9779 - val_f1_m: 0.9268 - val_precision_m: 0.9383 - val_recall_m: 0.9239\n",
            "Epoch 47/50\n",
            "61/61 [==============================] - 0s 6ms/step - loss: 0.0038 - acc: 0.9987 - f1_m: 0.9951 - precision_m: 0.9949 - recall_m: 0.9958 - val_loss: 0.1378 - val_acc: 0.9755 - val_f1_m: 0.8769 - val_precision_m: 0.8760 - val_recall_m: 0.8832\n",
            "Epoch 48/50\n",
            "61/61 [==============================] - 0s 5ms/step - loss: 0.0040 - acc: 0.9985 - f1_m: 0.9952 - precision_m: 0.9946 - recall_m: 0.9964 - val_loss: 0.1403 - val_acc: 0.9785 - val_f1_m: 0.9188 - val_precision_m: 0.9540 - val_recall_m: 0.8959\n",
            "Epoch 49/50\n",
            "61/61 [==============================] - 0s 5ms/step - loss: 0.0035 - acc: 0.9995 - f1_m: 0.9982 - precision_m: 1.0000 - recall_m: 0.9965 - val_loss: 0.1361 - val_acc: 0.9767 - val_f1_m: 0.9164 - val_precision_m: 0.9296 - val_recall_m: 0.9142\n",
            "Epoch 50/50\n",
            "61/61 [==============================] - 0s 5ms/step - loss: 0.0035 - acc: 0.9967 - f1_m: 0.9885 - precision_m: 0.9827 - recall_m: 0.9965 - val_loss: 0.1410 - val_acc: 0.9791 - val_f1_m: 0.9223 - val_precision_m: 0.9559 - val_recall_m: 0.8984\n"
          ]
        },
        {
          "data": {
            "text/plain": [
              "<keras.callbacks.History at 0x7f1290e9d8d0>"
            ]
          },
          "execution_count": 51,
          "metadata": {},
          "output_type": "execute_result"
        }
      ],
      "source": [
        "model.fit(train_batch, validation_data=val_batch, class_weight=target_dict, epochs=50, callbacks=[tensorboard_callback])\n"
      ]
    },
    {
      "cell_type": "code",
      "execution_count": 52,
      "metadata": {
        "colab": {
          "base_uri": "https://localhost:8080/"
        },
        "id": "XYguNa3_l_X_",
        "outputId": "80089049-2dad-46f8-b2dd-ac2c3bcb221a"
      },
      "outputs": [
        {
          "name": "stdout",
          "output_type": "stream",
          "text": [
            "53/53 [==============================] - 3s 3ms/step - loss: 0.1322 - acc: 0.9791 - f1_m: 0.8945 - precision_m: 0.9345 - recall_m: 0.8828\n"
          ]
        }
      ],
      "source": [
        "# evaluate the model\n",
        "loss, accuracy, f1_score, precision, recall = model.evaluate(xval, yval)"
      ]
    },
    {
      "cell_type": "code",
      "execution_count": 42,
      "metadata": {
        "colab": {
          "base_uri": "https://localhost:8080/"
        },
        "id": "tqIOOeHXmVrc",
        "outputId": "60e1d62d-34ac-437a-ce3b-6751765f8dbc"
      },
      "outputs": [
        {
          "name": "stdout",
          "output_type": "stream",
          "text": [
            "f1_score: 0.9050699472427368\n",
            "accuracy: 0.9814593195915222\n",
            "precision: 0.9541479349136353\n",
            "recall: 0.8805480599403381\n"
          ]
        }
      ],
      "source": [
        "print(f\"f1_score: {f1_score}\")\n",
        "print(f\"accuracy: {accuracy}\")\n",
        "print(f\"precision: {precision}\")\n",
        "print(f\"recall: {recall}\")"
      ]
    },
    {
      "cell_type": "code",
      "execution_count": 47,
      "metadata": {
        "colab": {
          "base_uri": "https://localhost:8080/"
        },
        "id": "5kR7VW8znrR-",
        "outputId": "ddcaa21a-df85-47f8-b667-ee68a6d1d458"
      },
      "outputs": [
        {
          "data": {
            "text/plain": [
              "<keras.callbacks.History at 0x7f128fd1b110>"
            ]
          },
          "execution_count": 47,
          "metadata": {},
          "output_type": "execute_result"
        }
      ],
      "source": [
        "model.history"
      ]
    },
    {
      "cell_type": "code",
      "execution_count": 54,
      "metadata": {
        "colab": {
          "base_uri": "https://localhost:8080/",
          "height": 235
        },
        "id": "2Cek08EenP6m",
        "outputId": "d223d388-5923-489d-8380-8a19d54956c7"
      },
      "outputs": [
        {
          "ename": "TypeError",
          "evalue": "ignored",
          "output_type": "error",
          "traceback": [
            "\u001b[0;31m---------------------------------------------------------------------------\u001b[0m",
            "\u001b[0;31mTypeError\u001b[0m                                 Traceback (most recent call last)",
            "\u001b[0;32m<ipython-input-54-e6440befedf2>\u001b[0m in \u001b[0;36m<module>\u001b[0;34m\u001b[0m\n\u001b[1;32m      1\u001b[0m \u001b[0;32mimport\u001b[0m \u001b[0mmatplotlib\u001b[0m\u001b[0;34m.\u001b[0m\u001b[0mpyplot\u001b[0m \u001b[0;32mas\u001b[0m \u001b[0mplt\u001b[0m\u001b[0;34m\u001b[0m\u001b[0;34m\u001b[0m\u001b[0m\n\u001b[0;32m----> 2\u001b[0;31m \u001b[0mplt\u001b[0m\u001b[0;34m.\u001b[0m\u001b[0mplot\u001b[0m\u001b[0;34m(\u001b[0m\u001b[0mmodel\u001b[0m\u001b[0;34m.\u001b[0m\u001b[0mhistory\u001b[0m\u001b[0;34m[\u001b[0m\u001b[0;34m\"loss\"\u001b[0m\u001b[0;34m]\u001b[0m\u001b[0;34m,\u001b[0m \u001b[0mc\u001b[0m\u001b[0;34m=\u001b[0m\u001b[0;34m\"r\"\u001b[0m\u001b[0;34m,\u001b[0m \u001b[0mlabel\u001b[0m\u001b[0;34m=\u001b[0m\u001b[0;34m\"train_loss\"\u001b[0m\u001b[0;34m)\u001b[0m\u001b[0;34m\u001b[0m\u001b[0;34m\u001b[0m\u001b[0m\n\u001b[0m\u001b[1;32m      3\u001b[0m \u001b[0mplt\u001b[0m\u001b[0;34m.\u001b[0m\u001b[0mplot\u001b[0m\u001b[0;34m(\u001b[0m\u001b[0mmodel\u001b[0m\u001b[0;34m.\u001b[0m\u001b[0mhistory\u001b[0m\u001b[0;34m.\u001b[0m\u001b[0mhistory\u001b[0m\u001b[0;34m[\u001b[0m\u001b[0;34m\"val_loss\"\u001b[0m\u001b[0;34m]\u001b[0m\u001b[0;34m,\u001b[0m \u001b[0mc\u001b[0m\u001b[0;34m=\u001b[0m\u001b[0;34m\"b\"\u001b[0m\u001b[0;34m,\u001b[0m \u001b[0mlabel\u001b[0m\u001b[0;34m=\u001b[0m\u001b[0;34m\"test_loss\"\u001b[0m\u001b[0;34m)\u001b[0m\u001b[0;34m\u001b[0m\u001b[0;34m\u001b[0m\u001b[0m\n\u001b[1;32m      4\u001b[0m \u001b[0mplt\u001b[0m\u001b[0;34m.\u001b[0m\u001b[0mlegend\u001b[0m\u001b[0;34m(\u001b[0m\u001b[0mloc\u001b[0m\u001b[0;34m=\u001b[0m\u001b[0;34m\"upper left\"\u001b[0m\u001b[0;34m)\u001b[0m\u001b[0;34m\u001b[0m\u001b[0;34m\u001b[0m\u001b[0m\n\u001b[1;32m      5\u001b[0m \u001b[0mplt\u001b[0m\u001b[0;34m.\u001b[0m\u001b[0mshow\u001b[0m\u001b[0;34m(\u001b[0m\u001b[0;34m)\u001b[0m\u001b[0;34m\u001b[0m\u001b[0;34m\u001b[0m\u001b[0m\n",
            "\u001b[0;31mTypeError\u001b[0m: 'History' object is not subscriptable"
          ]
        }
      ],
      "source": [
        "import matplotlib.pyplot as plt \n",
        "plt.plot(model.history.history[\"loss\"], c=\"r\", label=\"train_loss\")\n",
        "plt.plot(model.history.history[\"val_loss\"], c=\"b\", label=\"test_loss\")\n",
        "plt.legend(loc=\"upper left\")\n",
        "plt.show()"
      ]
    },
    {
      "cell_type": "code",
      "execution_count": 40,
      "metadata": {
        "colab": {
          "base_uri": "https://localhost:8080/"
        },
        "id": "35qqWIdBmYr-",
        "outputId": "5007fe32-0160-48ae-84b2-de7c50b5231a"
      },
      "outputs": [
        {
          "data": {
            "text/plain": [
              "0.9814593195915222"
            ]
          },
          "execution_count": 40,
          "metadata": {},
          "output_type": "execute_result"
        }
      ],
      "source": [
        "accuracy"
      ]
    },
    {
      "cell_type": "code",
      "execution_count": null,
      "metadata": {
        "id": "ODVMqQ1Wmjgs"
      },
      "outputs": [],
      "source": []
    },
    {
      "cell_type": "code",
      "execution_count": null,
      "metadata": {
        "id": "Z_ov6JU6-7Sp"
      },
      "outputs": [],
      "source": [
        "import matplotlib.pyplot as plt "
      ]
    },
    {
      "cell_type": "code",
      "execution_count": null,
      "metadata": {
        "colab": {
          "base_uri": "https://localhost:8080/",
          "height": 268
        },
        "id": "s-i3Gd769mJG",
        "outputId": "b0e5a073-d166-44e0-edda-685270a84576"
      },
      "outputs": [
        {
          "data": {
            "image/png": "[encoded data removed]",
            "text/plain": [
              "<Figure size 432x288 with 1 Axes>"
            ]
          },
          "metadata": {
            "needs_background": "light"
          },
          "output_type": "display_data"
        }
      ],
      "source": [
        "plt.plot(model.history.history[\"loss\"], c=\"r\", label=\"train_loss\")\n",
        "plt.plot(model.history.history[\"val_loss\"], c=\"b\", label=\"test_loss\")\n",
        "plt.legend(loc=\"upper left\")\n",
        "plt.show()"
      ]
    },
    {
      "cell_type": "code",
      "execution_count": null,
      "metadata": {
        "colab": {
          "base_uri": "https://localhost:8080/",
          "height": 265
        },
        "id": "K247mYqK_A_U",
        "outputId": "e5131417-193d-4a17-b8e5-20675e981cae"
      },
      "outputs": [
        {
          "data": {
            "image/png": "[encoded data removed]",
            "text/plain": [
              "<Figure size 432x288 with 1 Axes>"
            ]
          },
          "metadata": {
            "needs_background": "light"
          },
          "output_type": "display_data"
        }
      ],
      "source": [
        "plt.plot(model.history.history[\"accuracy\"], c=\"r\", label=\"train_accuracy\")\n",
        "plt.plot(model.history.history[\"val_accuracy\"], c=\"b\", label=\"test_accuracy\")\n",
        "plt.legend(loc=\"upper left\")\n",
        "plt.show()"
      ]
    },
    {
      "cell_type": "code",
      "execution_count": null,
      "metadata": {
        "id": "e0-yyb2Q-yca"
      },
      "outputs": [],
      "source": []
    },
    {
      "cell_type": "code",
      "execution_count": null,
      "metadata": {
        "id": "GrZqk0HZ-yeb"
      },
      "outputs": [],
      "source": [
        "model = Sequential([\n",
        "  Embedding(vocab_size+1, embedding_dim, input_shape=[txt.shape[1],], name=\"embedding\"), # the embedding layer\n",
        "  # the input dim needs to be equal to the size of the vocabulary + 1 (because of\n",
        "  # the zero padding)\n",
        "  GRU(units=64, return_sequences=True), # maintains the sequential nature\n",
        "  GRU(units=32, return_sequences=False),  # returns the last output\n",
        "  Dense(16, activation='relu'), # a dense layer\n",
        "  Dense(8, activation='relu'), # a dense layer\n",
        "  Dense(1, activation=\"sigmoid\") # the prediction layer\n",
        "])"
      ]
    },
    {
      "cell_type": "code",
      "execution_count": null,
      "metadata": {
        "id": "1gbW7VFcxtW1"
      },
      "outputs": [],
      "source": [
        "#pour le lstm, virer les sms trop longs\n",
        "#==> la majorité n'a pas plus de 50 car, le plus long a 164 car"
      ]
    }
  ],
  "metadata": {
    "colab": {
      "collapsed_sections": [],
      "provenance": []
    },
    "kernelspec": {
      "display_name": "ray",
      "language": "python",
      "name": "python3"
    },
    "language_info": {
      "codemirror_mode": {
        "name": "ipython",
        "version": 3
      },
      "file_extension": ".py",
      "mimetype": "text/x-python",
      "name": "python",
      "nbconvert_exporter": "python",
      "pygments_lexer": "ipython3",
      "version": "3.10.9"
    },
    "vscode": {
      "interpreter": {
        "hash": "64579bae4f6196e94765a34acce1fb9553e049249eb5ff55755370c7dff96b12"
      }
    }
  },
  "nbformat": 4,
  "nbformat_minor": 0
}
